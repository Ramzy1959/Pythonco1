{
 "cells": [
  {
   "cell_type": "markdown",
   "id": "b0714862",
   "metadata": {},
   "source": [
    "# Write a program to Reverse the given tuple (46, 53, 45, 48, 55, 45, 49, 51, 51, 58, 50, 55, 53, 57, 50, 46, 55, 55, 47, 57, 55)"
   ]
  },
  {
   "cell_type": "code",
   "execution_count": 1,
   "id": "d38275fa",
   "metadata": {},
   "outputs": [
    {
     "ename": "SyntaxError",
     "evalue": "invalid syntax (3840583355.py, line 1)",
     "output_type": "error",
     "traceback": [
      "\u001b[1;36m  Input \u001b[1;32mIn [1]\u001b[1;36m\u001b[0m\n\u001b[1;33m    Since tuples are immutable, there is no way to reverse a tuple in-place.\u001b[0m\n\u001b[1;37m          ^\u001b[0m\n\u001b[1;31mSyntaxError\u001b[0m\u001b[1;31m:\u001b[0m invalid syntax\n"
     ]
    }
   ],
   "source": [
    "Since tuples are immutable, there is no way to reverse a tuple in-place."
   ]
  },
  {
   "cell_type": "markdown",
   "id": "6c977572",
   "metadata": {},
   "source": [
    "# Write a program to Access value 58 from the above tuple"
   ]
  },
  {
   "cell_type": "code",
   "execution_count": 2,
   "id": "9e7c8061",
   "metadata": {},
   "outputs": [
    {
     "name": "stdout",
     "output_type": "stream",
     "text": [
      "58\n"
     ]
    }
   ],
   "source": [
    "numbers =  (46, 53, 45, 48, 55, 45, 49, 51, 51, 58, 50, 55, 53, 57, 50, 46, 55, 55, 47, 57, 55)\n",
    "print(numbers[9])"
   ]
  },
  {
   "cell_type": "markdown",
   "id": "953dd889",
   "metadata": {},
   "source": [
    "# Write a program to Counts the number of occurrences of item 55 from the above tuple"
   ]
  },
  {
   "cell_type": "code",
   "execution_count": 7,
   "id": "abb34eb3",
   "metadata": {},
   "outputs": [
    {
     "name": "stdout",
     "output_type": "stream",
     "text": [
      "5\n"
     ]
    }
   ],
   "source": [
    "numbers = (46, 53, 45, 48, 55, 45, 49, 51, 51, 58, 50, 55, 53, 57, 50, 46, 55, 55, 47, 57, 55)\n",
    "print(numbers.count(55))"
   ]
  },
  {
   "cell_type": "markdown",
   "id": "55a6ec1c",
   "metadata": {},
   "source": [
    "# Write a program to return values 49 and 57 from the above tuple."
   ]
  },
  {
   "cell_type": "code",
   "execution_count": 24,
   "id": "d9ad6067",
   "metadata": {},
   "outputs": [
    {
     "name": "stdout",
     "output_type": "stream",
     "text": [
      "(46, 53, 45, 48, 55, 45, 49, 51, 51, 58, 50, 55, 53, 57, 50, 46, 55, 55, 47, 57, 55)\n"
     ]
    }
   ],
   "source": [
    "numbers = (46, 53, 45, 48, 55, 45, 49, 51, 51, 58, 50, 55, 53, 57, 50, 46, 55, 55, 47, 57, 55)\n",
    "new_numbers = [49, 57]\n",
    "new_numbers.extend(new_numbers)\n",
    "print(numbers)\n"
   ]
  },
  {
   "cell_type": "markdown",
   "id": "ba9b373b",
   "metadata": {},
   "source": [
    "# Write a program to Reverse the given list [46, 53, 45, 48, 55, 45, 49, 51, 51, 58, 50, 55, 53, 57, 50, 46, 55, 55, 47, 57, 55]"
   ]
  },
  {
   "cell_type": "code",
   "execution_count": 12,
   "id": "cdb29510",
   "metadata": {},
   "outputs": [
    {
     "name": "stdout",
     "output_type": "stream",
     "text": [
      "<built-in method reverse of list object at 0x0000021F01CD2AC0>\n"
     ]
    }
   ],
   "source": [
    "numbers = [46, 53, 45, 48, 55, 45, 49, 51, 51, 58, 50, 55, 53, 57, 50, 46, 55, 55, 47, 57, 55]\n",
    "print(numbers.reverse)"
   ]
  },
  {
   "cell_type": "markdown",
   "id": "317bd3e3",
   "metadata": {},
   "source": [
    "# Write a program to Access value 58 from the above list"
   ]
  },
  {
   "cell_type": "code",
   "execution_count": 13,
   "id": "5eeed3e8",
   "metadata": {},
   "outputs": [
    {
     "name": "stdout",
     "output_type": "stream",
     "text": [
      "[9]\n"
     ]
    }
   ],
   "source": [
    "numbers = [46, 53, 45, 48, 55, 45, 49, 51, 51, 58, 50, 55, 53, 57, 50, 46, 55, 55, 47, 57, 55]\n",
    "print([9])"
   ]
  },
  {
   "cell_type": "markdown",
   "id": "0fead677",
   "metadata": {},
   "source": [
    "# Write a program to Counts the number of occurrences of item 51 from the above list"
   ]
  },
  {
   "cell_type": "code",
   "execution_count": 14,
   "id": "a15c4465",
   "metadata": {},
   "outputs": [
    {
     "name": "stdout",
     "output_type": "stream",
     "text": [
      "2\n"
     ]
    }
   ],
   "source": [
    "numbers =  [46, 53, 45, 48, 55, 45, 49, 51, 51, 58, 50, 55, 53, 57, 50, 46, 55, 55, 47, 57, 55]\n",
    "print(numbers.count(51))"
   ]
  },
  {
   "cell_type": "markdown",
   "id": "542f0464",
   "metadata": {},
   "source": [
    "# Write a program to return values 49 and 57 from the above list."
   ]
  },
  {
   "cell_type": "code",
   "execution_count": 15,
   "id": "ca44c936",
   "metadata": {},
   "outputs": [
    {
     "name": "stdout",
     "output_type": "stream",
     "text": [
      "None\n"
     ]
    }
   ],
   "source": [
    "numbers = [46, 53, 45, 48, 55, 45, 49, 51, 51, 58, 50, 55, 53, 57, 50, 46, 55, 55, 47, 57, 55]\n",
    "print(numbers.insert(49, 57))"
   ]
  },
  {
   "cell_type": "markdown",
   "id": "05c1b8f8",
   "metadata": {},
   "source": [
    "# Write a program to add item 69 after 49 in the following Python List"
   ]
  },
  {
   "cell_type": "code",
   "execution_count": 23,
   "id": "a42ce3c2",
   "metadata": {},
   "outputs": [
    {
     "name": "stdout",
     "output_type": "stream",
     "text": [
      "[46, 53, 45, 48, 55, 45, 49, 51, 51, 58, 50, 55, 53, 57, 50, 46, 55, 55, 47, 57, 55, 69, 49]\n"
     ]
    }
   ],
   "source": [
    "numbers = [46, 53, 45, 48, 55, 45, 49, 51, 51, 58, 50, 55, 53, 57, 50, 46, 55, 55, 47, 57, 55]\n",
    "new_numbers = [69, 49]\n",
    "numbers.extend(new_numbers)\n",
    "print(numbers)"
   ]
  },
  {
   "cell_type": "markdown",
   "id": "6d2652e9",
   "metadata": {},
   "source": [
    "# Write a program to extend [89,85,36,95,45,78] to the above list"
   ]
  },
  {
   "cell_type": "code",
   "execution_count": 21,
   "id": "602def03",
   "metadata": {},
   "outputs": [
    {
     "name": "stdout",
     "output_type": "stream",
     "text": [
      "[46, 53, 45, 48, 55, 45, 49, 51, 51, 58, 50, 55, 53, 57, 50, 46, 55, 55, 47, 57, 55, 89, 85, 36, 95, 45, 78]\n"
     ]
    }
   ],
   "source": [
    "numbers =  [46, 53, 45, 48, 55, 45, 49, 51, 51, 58, 50, 55, 53, 57, 50, 46, 55, 55, 47, 57, 55]\n",
    "new_numbers = [89,85,36,95,45,78]\n",
    "numbers.extend(new_numbers)\n",
    "print(numbers)"
   ]
  },
  {
   "cell_type": "markdown",
   "id": "2d69c048",
   "metadata": {},
   "source": [
    "# Write a Python program to create a new dictionary having 10 football club names as the key with each key holding the following values(location,managersname,clubcaptain,networth,clubformation)"
   ]
  },
  {
   "cell_type": "code",
   "execution_count": 1,
   "id": "8489f51f",
   "metadata": {},
   "outputs": [
    {
     "name": "stdout",
     "output_type": "stream",
     "text": [
      "dict_values(['standfordbridge', 'Thomas Tuchel', 'Azpilicueta', 'thirty eight million', 1905])\n"
     ]
    }
   ],
   "source": [
    "chelsea ={'location': 'standfordbridge', 'managersname': 'Thomas Tuchel', 'clubcaptain': 'Azpilicueta', 'networth': 'thirty eight million', 'clubformation': 1905}\n",
    "print(chelsea.values())\n",
    "          "
   ]
  },
  {
   "cell_type": "code",
   "execution_count": 2,
   "id": "f910f16e",
   "metadata": {},
   "outputs": [
    {
     "data": {
      "text/plain": [
       "'standfordbridge'"
      ]
     },
     "execution_count": 2,
     "metadata": {},
     "output_type": "execute_result"
    }
   ],
   "source": [
    "chelsea['location']"
   ]
  },
  {
   "cell_type": "code",
   "execution_count": 7,
   "id": "37ac94fa",
   "metadata": {},
   "outputs": [
    {
     "name": "stdout",
     "output_type": "stream",
     "text": [
      "dict_values(['England', 'Jürgen Klopp', 'jordan Henderson', 'eleven million', 1892])\n"
     ]
    }
   ],
   "source": [
    "liverpool ={'location': 'England', 'managersname': 'Jürgen Klopp', 'clubcaptain': 'jordan Henderson', 'networth': 'eleven million', 'clubformation': 1892}\n",
    "print(liverpool.values())"
   ]
  },
  {
   "cell_type": "code",
   "execution_count": 8,
   "id": "4ad69ed2",
   "metadata": {},
   "outputs": [
    {
     "name": "stdout",
     "output_type": "stream",
     "text": [
      "dict_values(['Lisbon, Portugal', 'Roger Schmidt', 'Gilberto2', 'five million', 1904])\n"
     ]
    }
   ],
   "source": [
    "Benfica ={'location': 'Lisbon, Portugal', 'managersname': 'Roger Schmidt', 'clubcaptain': 'Gilberto2', 'networth': 'five million', 'clubformation': 1904}\n",
    "print(Benfica.values())\n"
   ]
  },
  {
   "cell_type": "code",
   "execution_count": 9,
   "id": "ddb931bf",
   "metadata": {},
   "outputs": [
    {
     "name": "stdout",
     "output_type": "stream",
     "text": [
      "dict_values(['Santiago Bernabéu', 'Carlo Ancelotti', 'Sanchis', 'twenty million', 1902])\n"
     ]
    }
   ],
   "source": [
    "RealMadrid ={'location': 'Santiago Bernabéu', 'managersname': 'Carlo Ancelotti', 'clubcaptain': 'Sanchis', 'networth': 'twenty million', 'clubformation': 1902}\n",
    "print(RealMadrid.values())\n"
   ]
  },
  {
   "cell_type": "code",
   "execution_count": 12,
   "id": "50eca4a4",
   "metadata": {},
   "outputs": [
    {
     "name": "stdout",
     "output_type": "stream",
     "text": [
      "dict_values(['Italy', 'Stefano Pioli', 'Alesio Romagnoli', 'five hundred and thirty eight million', 1899])\n"
     ]
    }
   ],
   "source": [
    "ACMilan ={'location': 'Italy', 'manager name': 'Stefano Pioli', 'clubcaptain': 'Alesio Romagnoli', 'networth': 'five hundred and thirty eight million', 'clubformation': 1899}\n",
    "print(ACMilan.values())          "
   ]
  },
  {
   "cell_type": "code",
   "execution_count": 14,
   "id": "9d86e8b7",
   "metadata": {},
   "outputs": [
    {
     "name": "stdout",
     "output_type": "stream",
     "text": [
      "dict_values(['Lombardy', 'Simone Inzaghi', 'Samir Handanovic', 'six hundred and eigteen million', 1908])\n"
     ]
    }
   ],
   "source": [
    "InterMilan ={'location': 'Lombardy', 'manager name': 'Simone Inzaghi', 'clubcaptain': 'Samir Handanovic', 'networth': 'six hundred and eigteen million', 'clubformation': 1908}\n",
    "print(InterMilan.values())"
   ]
  },
  {
   "cell_type": "code",
   "execution_count": 15,
   "id": "805951e6",
   "metadata": {},
   "outputs": [
    {
     "name": "stdout",
     "output_type": "stream",
     "text": [
      "dict_values(['England', 'PepGuardiola', 'Ilkay Gundogan', 'twenty six billion', 1880])\n"
     ]
    }
   ],
   "source": [
    "ManchesterCity ={'location': 'England', 'manager name': 'PepGuardiola', 'clubcaptain': 'Ilkay Gundogan', 'networth': 'twenty six billion', 'clubformation': 1880}\n",
    "print(ManchesterCity.values())"
   ]
  },
  {
   "cell_type": "code",
   "execution_count": 16,
   "id": "4c7ac1a0",
   "metadata": {},
   "outputs": [
    {
     "name": "stdout",
     "output_type": "stream",
     "text": [
      "dict_values(['Porto', 'Sérgio Conceição', 'António Oliveira', 'seventy four thousand', 1893])\n"
     ]
    }
   ],
   "source": [
    "FCPorto ={'location': 'Porto', 'manager name': 'Sérgio Conceição', 'clubcaptain': 'António Oliveira', 'networth': 'seventy four thousand', 'clubformation': 1893}\n",
    "print(FCPorto.values())"
   ]
  },
  {
   "cell_type": "code",
   "execution_count": 17,
   "id": "b4bec27a",
   "metadata": {},
   "outputs": [
    {
     "name": "stdout",
     "output_type": "stream",
     "text": [
      "dict_values(['Catalana', 'Xavi', 'Sergio Busquets', 'four billion', 1899])\n"
     ]
    }
   ],
   "source": [
    "FCBarcelona ={'location': 'Catalana', 'manager name': 'Xavi', 'clubcaptain': 'Sergio Busquets', 'networth': 'four billion', 'clubformation': 1899}\n",
    "print(FCBarcelona.values())"
   ]
  },
  {
   "cell_type": "code",
   "execution_count": 18,
   "id": "aa968dd3",
   "metadata": {},
   "outputs": [
    {
     "name": "stdout",
     "output_type": "stream",
     "text": [
      "dict_values(['London', 'Antonio Conte', '\\tLloris, Hugo', '1.67 billion', 1882])\n"
     ]
    }
   ],
   "source": [
    "TottenhamHotspur ={'location': 'London', 'manager name': 'Antonio Conte', 'clubcaptain': '\tLloris, Hugo', 'networth': '1.67 billion', 'clubformation': 1882}\n",
    "print(TottenhamHotspur.values())"
   ]
  },
  {
   "cell_type": "code",
   "execution_count": null,
   "id": "645fcdf5",
   "metadata": {},
   "outputs": [],
   "source": []
  }
 ],
 "metadata": {
  "kernelspec": {
   "display_name": "Python 3 (ipykernel)",
   "language": "python",
   "name": "python3"
  },
  "language_info": {
   "codemirror_mode": {
    "name": "ipython",
    "version": 3
   },
   "file_extension": ".py",
   "mimetype": "text/x-python",
   "name": "python",
   "nbconvert_exporter": "python",
   "pygments_lexer": "ipython3",
   "version": "3.9.12"
  }
 },
 "nbformat": 4,
 "nbformat_minor": 5
}
