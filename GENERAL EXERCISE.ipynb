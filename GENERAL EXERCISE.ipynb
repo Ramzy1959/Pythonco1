{
 "cells": [
  {
   "cell_type": "markdown",
   "id": "a9f58fc2",
   "metadata": {},
   "source": [
    "# write a program that will determine the year that were born in, and then calculate our age  and print it on the terminal.\n",
    "\n"
   ]
  },
  {
   "cell_type": "code",
   "execution_count": 4,
   "id": "05e7f71a",
   "metadata": {},
   "outputs": [
    {
     "name": "stdout",
     "output_type": "stream",
     "text": [
      "what is your birthyear: 1989\n",
      "33\n"
     ]
    }
   ],
   "source": [
    "birth_year = input('what is your birthyear: ')\n",
    "age = 2022 - int(birth_year)\n",
    "print(age)"
   ]
  },
  {
   "cell_type": "code",
   "execution_count": 5,
   "id": "aa71f4f4",
   "metadata": {},
   "outputs": [
    {
     "name": "stdout",
     "output_type": "stream",
     "text": [
      "what is your birthyear: 1989\n",
      "<class 'str'>\n",
      "<class 'int'>\n",
      "33\n"
     ]
    }
   ],
   "source": [
    "birth_year = input('what is your birthyear: ')\n",
    "print(type(birth_year))\n",
    "print(type(age))\n",
    "print(age)"
   ]
  },
  {
   "cell_type": "markdown",
   "id": "f17e1192",
   "metadata": {},
   "source": [
    "# write a program, ask a user their weight (in pounds), convert it to kilograms and print on the terminal"
   ]
  },
  {
   "cell_type": "code",
   "execution_count": 8,
   "id": "56cc171e",
   "metadata": {},
   "outputs": [
    {
     "name": "stdout",
     "output_type": "stream",
     "text": [
      "weight (lbs): 160\n",
      "72.0\n"
     ]
    }
   ],
   "source": [
    "weight_lbs = input('weight (lbs): ')\n",
    "weight_kg = int(weight_lbs) * 0.45\n",
    "print(weight_kg)"
   ]
  },
  {
   "cell_type": "code",
   "execution_count": 11,
   "id": "fd924a7c",
   "metadata": {},
   "outputs": [
    {
     "name": "stdout",
     "output_type": "stream",
     "text": [
      "python's course for beginners\n"
     ]
    }
   ],
   "source": [
    "course = \"python's course for beginners\" \n",
    "print(course)"
   ]
  },
  {
   "cell_type": "code",
   "execution_count": 13,
   "id": "75ee7154",
   "metadata": {},
   "outputs": [
    {
     "name": "stdout",
     "output_type": "stream",
     "text": [
      "python for \"BEGINNERS\"\n"
     ]
    }
   ],
   "source": [
    "course = 'python for \"BEGINNERS\"'\n",
    "print(course)"
   ]
  },
  {
   "cell_type": "code",
   "execution_count": 14,
   "id": "26143016",
   "metadata": {},
   "outputs": [
    {
     "name": "stdout",
     "output_type": "stream",
     "text": [
      "\n",
      "Hi john,\n",
      "\n",
      "here is our first e mail to you.\n",
      "\n",
      "thank you,\n",
      "The support team.\n",
      "\n"
     ]
    }
   ],
   "source": [
    "course = '''\n",
    "Hi john,\n",
    "\n",
    "here is our first e mail to you.\n",
    "\n",
    "thank you,\n",
    "The support team.\n",
    "'''\n",
    "print(course)"
   ]
  },
  {
   "cell_type": "code",
   "execution_count": 15,
   "id": "0e39dcb0",
   "metadata": {},
   "outputs": [
    {
     "name": "stdout",
     "output_type": "stream",
     "text": [
      "y\n"
     ]
    }
   ],
   "source": [
    "course = 'python for beginners'\n",
    "print(course[1])"
   ]
  },
  {
   "cell_type": "code",
   "execution_count": 16,
   "id": "f348d902",
   "metadata": {},
   "outputs": [
    {
     "name": "stdout",
     "output_type": "stream",
     "text": [
      "h\n"
     ]
    }
   ],
   "source": [
    "print(course[3])"
   ]
  },
  {
   "cell_type": "code",
   "execution_count": 17,
   "id": "c93c1766",
   "metadata": {},
   "outputs": [
    {
     "name": "stdout",
     "output_type": "stream",
     "text": [
      "r\n"
     ]
    }
   ],
   "source": [
    "print(course[-2])"
   ]
  },
  {
   "cell_type": "code",
   "execution_count": 18,
   "id": "3a7dc023",
   "metadata": {},
   "outputs": [
    {
     "name": "stdout",
     "output_type": "stream",
     "text": [
      "pyt\n"
     ]
    }
   ],
   "source": [
    "print(course[0:3])"
   ]
  },
  {
   "cell_type": "code",
   "execution_count": 19,
   "id": "efadbbf1",
   "metadata": {},
   "outputs": [
    {
     "name": "stdout",
     "output_type": "stream",
     "text": [
      "yth\n"
     ]
    }
   ],
   "source": [
    "print(course[1:4])"
   ]
  },
  {
   "cell_type": "code",
   "execution_count": 20,
   "id": "e86c20e2",
   "metadata": {},
   "outputs": [
    {
     "name": "stdout",
     "output_type": "stream",
     "text": [
      "pytho\n"
     ]
    }
   ],
   "source": [
    "print(course[:5])"
   ]
  },
  {
   "cell_type": "code",
   "execution_count": 21,
   "id": "18fb79b3",
   "metadata": {},
   "outputs": [
    {
     "name": "stdout",
     "output_type": "stream",
     "text": [
      "python for beginners\n"
     ]
    }
   ],
   "source": [
    "course = 'python for beginners'\n",
    "another = course[:]\n",
    "print(another)"
   ]
  },
  {
   "cell_type": "code",
   "execution_count": 22,
   "id": "8b18cc85",
   "metadata": {},
   "outputs": [
    {
     "name": "stdout",
     "output_type": "stream",
     "text": [
      "ennife\n"
     ]
    }
   ],
   "source": [
    "# define a variable, called name, and set it to jennifer\n",
    "name = 'jennifer'\n",
    "print(name[1:-1])"
   ]
  },
  {
   "cell_type": "markdown",
   "id": "5646b467",
   "metadata": {},
   "source": [
    "# formatted strings"
   ]
  },
  {
   "cell_type": "markdown",
   "id": "98d30a1c",
   "metadata": {},
   "source": [
    "# write a program that says 'john smith is a coder'"
   ]
  },
  {
   "cell_type": "code",
   "execution_count": 24,
   "id": "a0352571",
   "metadata": {},
   "outputs": [
    {
     "name": "stdout",
     "output_type": "stream",
     "text": [
      "john[smith] is a coder\n"
     ]
    }
   ],
   "source": [
    "first_name = 'john'\n",
    "last_name = 'smith'\n",
    "message = first_name + '[' + last_name + '] is a coder'\n",
    "print(message)"
   ]
  },
  {
   "cell_type": "code",
   "execution_count": 26,
   "id": "27e823de",
   "metadata": {},
   "outputs": [
    {
     "name": "stdout",
     "output_type": "stream",
     "text": [
      "john smith is a coder\n"
     ]
    }
   ],
   "source": [
    "msg = f'{first_name} {last_name} is a coder'\n",
    "print(msg)\n"
   ]
  },
  {
   "cell_type": "markdown",
   "id": "f13b6e7c",
   "metadata": {},
   "source": [
    "# to calculate the number of characters in a string"
   ]
  },
  {
   "cell_type": "code",
   "execution_count": 27,
   "id": "907e7ed7",
   "metadata": {},
   "outputs": [
    {
     "name": "stdout",
     "output_type": "stream",
     "text": [
      "20\n"
     ]
    }
   ],
   "source": [
    "course = 'python for beginners'\n",
    "print(len(course))"
   ]
  },
  {
   "cell_type": "code",
   "execution_count": 28,
   "id": "e4be9438",
   "metadata": {},
   "outputs": [
    {
     "name": "stdout",
     "output_type": "stream",
     "text": [
      "PYTHON FOR BEGINNERS\n"
     ]
    }
   ],
   "source": [
    "print(course.upper())"
   ]
  },
  {
   "cell_type": "code",
   "execution_count": 30,
   "id": "43b18761",
   "metadata": {},
   "outputs": [
    {
     "name": "stdout",
     "output_type": "stream",
     "text": [
      "0\n"
     ]
    }
   ],
   "source": [
    "p\n",
    "rint(course.find('p'))"
   ]
  },
  {
   "cell_type": "code",
   "execution_count": 31,
   "id": "fa640c50",
   "metadata": {},
   "outputs": [
    {
     "name": "stdout",
     "output_type": "stream",
     "text": [
      "python for ABSOLUTE BEGINNERS\n"
     ]
    }
   ],
   "source": [
    "print(course.replace('beginners', 'ABSOLUTE BEGINNERS'))"
   ]
  },
  {
   "cell_type": "code",
   "execution_count": 36,
   "id": "6eb38a70",
   "metadata": {},
   "outputs": [
    {
     "name": "stdout",
     "output_type": "stream",
     "text": [
      "False\n"
     ]
    }
   ],
   "source": [
    "course = 'python for beginners'\n",
    "print('Python' in course)"
   ]
  },
  {
   "cell_type": "code",
   "execution_count": 35,
   "id": "82097798",
   "metadata": {},
   "outputs": [
    {
     "ename": "SyntaxError",
     "evalue": "EOL while scanning string literal (4269317762.py, line 1)",
     "output_type": "error",
     "traceback": [
      "\u001b[1;36m  Input \u001b[1;32mIn [35]\u001b[1;36m\u001b[0m\n\u001b[1;33m    print('Python' in course')\u001b[0m\n\u001b[1;37m                              ^\u001b[0m\n\u001b[1;31mSyntaxError\u001b[0m\u001b[1;31m:\u001b[0m EOL while scanning string literal\n"
     ]
    }
   ],
   "source": [
    "course = 'python for beginners'\n",
    "len()\n",
    "course.upper()\n",
    "course.lower()\n",
    "course.title()\n",
    "course.find()\n",
    "course.replace\n",
    "'...' in course"
   ]
  },
  {
   "cell_type": "code",
   "execution_count": 38,
   "id": "d5dd36a4",
   "metadata": {},
   "outputs": [
    {
     "name": "stdout",
     "output_type": "stream",
     "text": [
      "Python For Beginners\n"
     ]
    }
   ],
   "source": [
    "course = 'python for beginners'\n",
    "print(course.title())"
   ]
  },
  {
   "cell_type": "code",
   "execution_count": null,
   "id": "a733c4c0",
   "metadata": {},
   "outputs": [],
   "source": []
  }
 ],
 "metadata": {
  "kernelspec": {
   "display_name": "Python 3 (ipykernel)",
   "language": "python",
   "name": "python3"
  },
  "language_info": {
   "codemirror_mode": {
    "name": "ipython",
    "version": 3
   },
   "file_extension": ".py",
   "mimetype": "text/x-python",
   "name": "python",
   "nbconvert_exporter": "python",
   "pygments_lexer": "ipython3",
   "version": "3.9.12"
  }
 },
 "nbformat": 4,
 "nbformat_minor": 5
}
