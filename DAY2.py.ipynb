{
 "cells": [
  {
   "cell_type": "code",
   "execution_count": 1,
   "id": "7341c105",
   "metadata": {},
   "outputs": [
    {
     "name": "stdout",
     "output_type": "stream",
     "text": [
      "12\n"
     ]
    }
   ],
   "source": [
    "num1 = int(12.65)\n",
    "print(num1)"
   ]
  },
  {
   "cell_type": "code",
   "execution_count": 2,
   "id": "dfc57f75",
   "metadata": {},
   "outputs": [
    {
     "name": "stdout",
     "output_type": "stream",
     "text": [
      "12\n"
     ]
    }
   ],
   "source": [
    "print(str(num1))\n"
   ]
  },
  {
   "cell_type": "code",
   "execution_count": null,
   "id": "fa30a8a4",
   "metadata": {},
   "outputs": [],
   "source": [
    "# CONVERT THIS TO FLOAT AND STRING 45, 85, 90\n",
    "# CONVERT THIS TO INTEGER AND STRING 45.36, 80.25, 90.36\n",
    "# CONVERT THIS TO INTEGER AND FLOAT '70', '89.5', '77.88'"
   ]
  },
  {
   "cell_type": "code",
   "execution_count": 6,
   "id": "67ccc49b",
   "metadata": {},
   "outputs": [
    {
     "name": "stdout",
     "output_type": "stream",
     "text": [
      "45.0\n",
      "85.0\n",
      "90.0\n"
     ]
    }
   ],
   "source": [
    "num1 = float(45)\n",
    "num2 = float(85)\n",
    "num3 = float(90)\n",
    "print(str(num1))\n",
    "print(str(num2))\n",
    "print(str(num3))"
   ]
  },
  {
   "cell_type": "code",
   "execution_count": 4,
   "id": "062a0a15",
   "metadata": {},
   "outputs": [
    {
     "name": "stdout",
     "output_type": "stream",
     "text": [
      "12\n"
     ]
    }
   ],
   "source": [
    "#num1 = float(45)\n",
    "#num2 = float(85)\n",
    "#num3 = float(90)"
   ]
  },
  {
   "cell_type": "code",
   "execution_count": 7,
   "id": "17e53010",
   "metadata": {},
   "outputs": [
    {
     "name": "stdout",
     "output_type": "stream",
     "text": [
      "45 80 90\n"
     ]
    }
   ],
   "source": [
    "num1 = int(45.36)\n",
    "num2 = int(80.25)\n",
    "num3 = int(90.36)\n",
    "print(num1, num2, num3)\n",
    "          "
   ]
  },
  {
   "cell_type": "code",
   "execution_count": 11,
   "id": "32b6126c",
   "metadata": {},
   "outputs": [
    {
     "name": "stdout",
     "output_type": "stream",
     "text": [
      "70 89 77\n"
     ]
    }
   ],
   "source": [
    "num1 = int('70')\n",
    "num2 = int('89')\n",
    "num3 = int('77')\n",
    "print(num1, num2, num3)"
   ]
  },
  {
   "cell_type": "markdown",
   "id": "35100327",
   "metadata": {},
   "source": [
    "#### Input function\n"
   ]
  },
  {
   "cell_type": "code",
   "execution_count": 14,
   "id": "26e1171b",
   "metadata": {},
   "outputs": [
    {
     "name": "stdout",
     "output_type": "stream",
     "text": [
      "please provide your namesimeon\n"
     ]
    }
   ],
   "source": [
    "name = input('please provide your name')"
   ]
  },
  {
   "cell_type": "code",
   "execution_count": 16,
   "id": "d440dba6",
   "metadata": {},
   "outputs": [
    {
     "name": "stdout",
     "output_type": "stream",
     "text": [
      "provide your age45\n"
     ]
    }
   ],
   "source": [
    "age = int(input('provide your age'))\n"
   ]
  },
  {
   "cell_type": "code",
   "execution_count": 17,
   "id": "5a4dce88",
   "metadata": {},
   "outputs": [
    {
     "name": "stdout",
     "output_type": "stream",
     "text": [
      "provide your age:45\n"
     ]
    }
   ],
   "source": [
    "age2 = float(input('provide your age:'))"
   ]
  },
  {
   "cell_type": "markdown",
   "id": "85b44399",
   "metadata": {},
   "source": [
    "## OPERATORS"
   ]
  },
  {
   "cell_type": "markdown",
   "id": "3926b8c3",
   "metadata": {},
   "source": [
    "# ARITHMETIC OPERATORS"
   ]
  },
  {
   "cell_type": "code",
   "execution_count": 19,
   "id": "ac334921",
   "metadata": {},
   "outputs": [
    {
     "name": "stdout",
     "output_type": "stream",
     "text": [
      "provide the first number:20\n",
      "provide the first number:10\n",
      "20 + 10 = 30\n",
      "20 - 10 = 10\n",
      "20 * 10 = 200\n",
      "20 / 10 = 2.0\n",
      "20 % 10 = 0\n",
      "20 // 10 = 2\n",
      "20 **10 = 10240000000000\n"
     ]
    }
   ],
   "source": [
    "num1 = int(input('provide the first number:'))\n",
    "num2 = int(input('provide the second number:'))\n",
    "print(f'{num1} + {num2} = {num1 + num2}')\n",
    "print(f'{num1} - {num2} = {num1 - num2}')\n",
    "print(f'{num1} * {num2} = {num1 * num2}')\n",
    "print(f'{num1} / {num2} = {num1 / num2}')\n",
    "print(f'{num1} % {num2} = {num1 % num2}')\n",
    "print(f'{num1} // {num2} = {num1 // num2}')\n",
    "print(f'{num1} **{num2} = {num1 **num2}')"
   ]
  },
  {
   "cell_type": "markdown",
   "id": "c7a2dfd2",
   "metadata": {},
   "source": [
    "### COMPARISM OPERATORS"
   ]
  },
  {
   "cell_type": "code",
   "execution_count": 21,
   "id": "ae74aeac",
   "metadata": {},
   "outputs": [
    {
     "name": "stdout",
     "output_type": "stream",
     "text": [
      "provide the first number:50\n",
      "provide the first number:25\n",
      "50 > 25 = True\n",
      "50 < 25 = False\n",
      "50 >= 25 = True\n",
      "50 <= 25 = False\n",
      "50 == 25 = False\n",
      "50!= 25 = True\n"
     ]
    }
   ],
   "source": [
    "num1 = int(input('provide the first number:'))\n",
    "num2 = int(input('provide the first number:'))\n",
    "print(f'{num1} > {num2} = {num1 > num2}')\n",
    "print(f'{num1} < {num2} = {num1 < num2}')\n",
    "print(f'{num1} >= {num2} = {num1 >= num2}')\n",
    "print(f'{num1} <= {num2} = {num1 <= num2}')\n",
    "print(f'{num1} == {num2} = {num1 == num2}')\n",
    "print(f'{num1}!= {num2} = {num1 != num2}')"
   ]
  },
  {
   "cell_type": "markdown",
   "id": "d739b258",
   "metadata": {},
   "source": [
    "### LOGICAL OPERATOR"
   ]
  },
  {
   "cell_type": "code",
   "execution_count": 22,
   "id": "dfd51c1a",
   "metadata": {},
   "outputs": [
    {
     "name": "stdout",
     "output_type": "stream",
     "text": [
      "provide the first number:25\n",
      "provide the first number:78\n",
      "25 > 78 and 25 != 78= False\n",
      "25 > 78 or 25 != 78= True\n"
     ]
    }
   ],
   "source": [
    "num1 = int(input('provide the first number:'))\n",
    "num2 = int(input('provide the first number:'))\n",
    "print(f'{num1} > {num2} and {num1} != {num2}= {num1 > num2 and num1 != num2}')\n",
    "print(f'{num1} > {num2} or {num1} != {num2}= {num1 > num2 or num1 != num2}')\n"
   ]
  },
  {
   "cell_type": "markdown",
   "id": "81cdd4ca",
   "metadata": {},
   "source": [
    "### IDENTITY OPERATOR"
   ]
  },
  {
   "cell_type": "code",
   "execution_count": 23,
   "id": "66c0713c",
   "metadata": {},
   "outputs": [
    {
     "name": "stdout",
     "output_type": "stream",
     "text": [
      "provide the first number:30\n",
      "provide the first number:30\n",
      "True\n",
      "False\n"
     ]
    }
   ],
   "source": [
    "num1 = int(input('provide the first number:'))\n",
    "num2 = int(input('provide the first number:'))\n",
    "print(num1 is num2)\n",
    "print(num1 is not num2)"
   ]
  },
  {
   "cell_type": "markdown",
   "id": "6a53317a",
   "metadata": {},
   "source": [
    "### MEMEBERSHIP OPERATOR"
   ]
  },
  {
   "cell_type": "code",
   "execution_count": 24,
   "id": "f3f865fe",
   "metadata": {},
   "outputs": [
    {
     "name": "stdout",
     "output_type": "stream",
     "text": [
      "please provide a wordpython\n",
      "False\n",
      "False\n"
     ]
    }
   ],
   "source": [
    "course = input('please provide a word')\n",
    "print('s'in course)\n",
    "print('t'not in course)"
   ]
  },
  {
   "cell_type": "code",
   "execution_count": 25,
   "id": "779c755c",
   "metadata": {},
   "outputs": [
    {
     "name": "stdout",
     "output_type": "stream",
     "text": [
      "provide pen quantity:450\n",
      "job's profit on 450 pen is 22500\n"
     ]
    }
   ],
   "source": [
    "# JOB BOUGHT N PEN AT THE RATE OF 50 NAIRA EACH AND SOLD THE PEN AT THE RATE OF 100 EACH\n",
    "# CALCULATE JOB'S PROFIT\n",
    "quantity = int(input('provide pen quantity:'))\n",
    "cost = 50 * quantity\n",
    "selling = 100 * quantity\n",
    "profit = selling - cost\n",
    "print(f'job\\'s profit on {quantity} pen is {profit}')\n"
   ]
  },
  {
   "cell_type": "code",
   "execution_count": 1,
   "id": "57da0a48",
   "metadata": {},
   "outputs": [
    {
     "name": "stdout",
     "output_type": "stream",
     "text": [
      "31.44\n"
     ]
    }
   ],
   "source": [
    "num1 = (31.44)\n",
    "print(str(num1))"
   ]
  },
  {
   "cell_type": "markdown",
   "id": "acd13583",
   "metadata": {},
   "source": [
    "# CONVERT THIS TO INTEGER AND FLOAT '70', '89.5', '77.88'"
   ]
  },
  {
   "cell_type": "code",
   "execution_count": 2,
   "id": "10278c20",
   "metadata": {},
   "outputs": [
    {
     "name": "stdout",
     "output_type": "stream",
     "text": [
      "70.0 89 77\n"
     ]
    }
   ],
   "source": [
    "num1 = float(70)\n",
    "num2 = int(89.5)\n",
    "num3 = int(77.88)\n",
    "print(num1, num2, num3)"
   ]
  },
  {
   "cell_type": "code",
   "execution_count": 3,
   "id": "5c128b15",
   "metadata": {},
   "outputs": [
    {
     "name": "stdout",
     "output_type": "stream",
     "text": [
      "please provide your name ONOCHIE\n",
      " ONOCHIE\n"
     ]
    }
   ],
   "source": [
    "name1 = input('please provide your name')\n",
    "print(name1)"
   ]
  },
  {
   "cell_type": "code",
   "execution_count": 4,
   "id": "ed972c2c",
   "metadata": {},
   "outputs": [
    {
     "name": "stdout",
     "output_type": "stream",
     "text": [
      "please provide your age 45\n",
      " 45\n"
     ]
    }
   ],
   "source": [
    "age = input('please provide your age')\n",
    "print(age)"
   ]
  },
  {
   "cell_type": "code",
   "execution_count": null,
   "id": "7e81d7d8",
   "metadata": {},
   "outputs": [],
   "source": []
  }
 ],
 "metadata": {
  "kernelspec": {
   "display_name": "Python 3 (ipykernel)",
   "language": "python",
   "name": "python3"
  },
  "language_info": {
   "codemirror_mode": {
    "name": "ipython",
    "version": 3
   },
   "file_extension": ".py",
   "mimetype": "text/x-python",
   "name": "python",
   "nbconvert_exporter": "python",
   "pygments_lexer": "ipython3",
   "version": "3.9.12"
  }
 },
 "nbformat": 4,
 "nbformat_minor": 5
}
