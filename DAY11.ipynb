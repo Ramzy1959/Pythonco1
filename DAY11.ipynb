{
 "cells": [
  {
   "cell_type": "markdown",
   "id": "4d5e00bc",
   "metadata": {},
   "source": [
    "# WRITE A PROGRAM TO CALCULATE HOW MANY SECONDS IT TAKES TO ANSWER FIVE QUESTION\n",
    " #NOTE:: YOU ARE TO GENERATE THE QUESTIONS TO BE ANSWERED"
   ]
  },
  {
   "cell_type": "code",
   "execution_count": 3,
   "id": "85d2ddf7",
   "metadata": {},
   "outputs": [
    {
     "name": "stdout",
     "output_type": "stream",
     "text": [
      "A data structure that stores value of same data type is known as:Array\n",
      "which type of loop is not recognized by python:Do-while loop\n",
      "How many Arithimetic operators do we have in python:7\n",
      "Elements of programming are divided into how many parts:5\n",
      "In class and object which keyword is needed in order to have access to it's attributes and methods:self\n",
      "Your score is 15 in 82 seconds\n"
     ]
    }
   ],
   "source": [
    "import datetime\n",
    "answer = {\n",
    "    'Q1': ['set', 'List', 'Array', 'Dictionary'],\n",
    "    'Q2': ['For loop', 'While loop', 'Do-while loop'],\n",
    "    'Q3': [5,7,4,8],\n",
    "    'Q4': [2,3,8,5],\n",
    "    'Q5': ['self','constructor', '__init__']\n",
    "    \n",
    "}\n",
    "score = 0\n",
    "start = datetime.datetime.now()\n",
    "question1 = input('A data structure that stores value of same data type is known as:')\n",
    "if question1 == answer['Q1'][2]:\n",
    "    score += 5\n",
    "else:\n",
    "    score +=0\n",
    "question2 = input('which type of loop is not recognized by python:')\n",
    "if question2 == answer['Q2'][2]:\n",
    "    score += 5\n",
    "else:\n",
    "    score +=0\n",
    "question3 = input('How many Arithimetic operators do we have in python:')\n",
    "if question3 == answer['Q3'][1]:\n",
    "    score += 5\n",
    "else:\n",
    "    score +=0\n",
    "question4 = input('Elements of programming are divided into how many parts:')\n",
    "if question4 == answer['Q4'][3]:\n",
    "    score += 5\n",
    "else:\n",
    "    score +=0\n",
    "question5 = input('In class and object which keyword is needed in order to have access to it\\'s attributes and methods:')\n",
    "if question5 == answer['Q5'][0]:\n",
    "    score += 5\n",
    "else:\n",
    "    score +=0\n",
    "\n",
    "stop = datetime.datetime.now()\n",
    "diff = stop - start\n",
    "print(f'Your score is {score} in {diff.seconds} seconds')\n",
    "\n",
    "\n"
   ]
  },
  {
   "cell_type": "markdown",
   "id": "a9a8cfc6",
   "metadata": {},
   "source": [
    "# file input and output\n"
   ]
  },
  {
   "cell_type": "code",
   "execution_count": 5,
   "id": "3f2a998a",
   "metadata": {},
   "outputs": [],
   "source": [
    "#w, r, a, r+ \n",
    "file = open('demo.pdf', 'w')\n",
    "file.write('''python is the best and we love it that way because we are going to make so much from it\n",
    "''')\n",
    "file.close()"
   ]
  },
  {
   "cell_type": "code",
   "execution_count": 6,
   "id": "3acdf12b",
   "metadata": {},
   "outputs": [
    {
     "name": "stdout",
     "output_type": "stream",
     "text": [
      "python is the best and we love it that way because we are going to make so much from it\n",
      "\n"
     ]
    }
   ],
   "source": [
    "file = open('demo.pdf', 'r')\n",
    "print(file.read())\n",
    "file.close()"
   ]
  },
  {
   "cell_type": "code",
   "execution_count": 7,
   "id": "9c19e400",
   "metadata": {},
   "outputs": [],
   "source": [
    "file = open('demo.pdf', 'a')\n",
    "file.write('\\npython is fun')\n",
    "file.close()\n",
    "                           "
   ]
  },
  {
   "cell_type": "code",
   "execution_count": 8,
   "id": "06cbc888",
   "metadata": {},
   "outputs": [
    {
     "name": "stdout",
     "output_type": "stream",
     "text": [
      "python is the best and we love it that way because we are going to make so much from it\n",
      "\n",
      "python is fun\n"
     ]
    }
   ],
   "source": [
    "file = open('demo.pdf', 'r+')\n",
    "print(file.read())\n",
    "file.write('\\npython is great')\n",
    "file.close()"
   ]
  },
  {
   "cell_type": "code",
   "execution_count": 10,
   "id": "2f2ed592",
   "metadata": {},
   "outputs": [
    {
     "name": "stdout",
     "output_type": "stream",
     "text": [
      "Numbers of words which lenght is ramging from 1 - 5 is 324\n",
      "Numbers of words which lenght is ramging from 6 - 10 is 176\n",
      "Numbers of words which lenght is ramging from 11 - 20 is 11\n",
      "Numbers of words whhose lenght is above 20 is 1\n"
     ]
    }
   ],
   "source": [
    "try:\n",
    "    file = open('demo.doc', 'r')\n",
    "    content = file.read()\n",
    "    splitcontent = content.split()\n",
    "except FileNotFoundError:\n",
    "    print('File does not exist')\n",
    "else:\n",
    "    one_to_five = 0\n",
    "    six_to_10 = 0\n",
    "    eleven_to_twenty = 0\n",
    "    others = 0\n",
    "    for word in splitcontent:\n",
    "        if len(word) >= 1 and len(word) <= 5:\n",
    "            one_to_five +=1\n",
    "        elif len(word) >= 6 and len(word) <= 10:\n",
    "            six_to_10 +=1\n",
    "        elif len(word) >= 11 and len(word) <= 20:\n",
    "            eleven_to_twenty +=1\n",
    "        else:\n",
    "            others +=1\n",
    "finally:\n",
    "    print(f'Numbers of words which lenght is ramging from 1 - 5 is {one_to_five}')\n",
    "    print(f'Numbers of words which lenght is ramging from 6 - 10 is {six_to_10}')\n",
    "    print(f'Numbers of words which lenght is ramging from 11 - 20 is {eleven_to_twenty}')\n",
    "    print(f'Numbers of words whhose lenght is above 20 is {others}')\n",
    "            "
   ]
  },
  {
   "cell_type": "code",
   "execution_count": null,
   "id": "248fa2d6",
   "metadata": {},
   "outputs": [],
   "source": []
  }
 ],
 "metadata": {
  "kernelspec": {
   "display_name": "Python 3 (ipykernel)",
   "language": "python",
   "name": "python3"
  },
  "language_info": {
   "codemirror_mode": {
    "name": "ipython",
    "version": 3
   },
   "file_extension": ".py",
   "mimetype": "text/x-python",
   "name": "python",
   "nbconvert_exporter": "python",
   "pygments_lexer": "ipython3",
   "version": "3.9.12"
  }
 },
 "nbformat": 4,
 "nbformat_minor": 5
}
