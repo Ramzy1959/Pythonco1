{
 "cells": [
  {
   "cell_type": "markdown",
   "id": "cc6e0d5f",
   "metadata": {},
   "source": [
    "# write a progam to generate a dice for two players, this dice will be rolled eight times,for each round write a condition to display the winner or a draw if player one wins add 5point if player two wins add 5point else add 2 point each and finally write a condition to dsiplay the over all winner note: you are to define a function for this program"
   ]
  },
  {
   "cell_type": "code",
   "execution_count": 17,
   "id": "19110d0f",
   "metadata": {},
   "outputs": [
    {
     "name": "stdout",
     "output_type": "stream",
     "text": [
      "PLAYER ONE SCORE ::: 6\n",
      "PLAYER TWO SCORE ::: 4\n",
      "PLAYER ONE WINS\n",
      "\n",
      "\n",
      "PLAYER ONE IS THE OVERALL WINNER WITH A TOTAL POINT OF 5\n"
     ]
    }
   ],
   "source": [
    "def diceroller():\n",
    "    import random\n",
    "    playeronescore = 0\n",
    "    playertwoscore = 0\n",
    "    for i in range(1,9):\n",
    "        dice1 = random.randint(1,6) + random.randint(1,6)\n",
    "        dice2 = random.randint(1,6) + random.randint(1,6)\n",
    "    if dice1 > dice2:\n",
    "        print(f'PLAYER ONE SCORE ::: {dice1}')\n",
    "        print(f'PLAYER TWO SCORE ::: {dice2}')\n",
    "        print('PLAYER ONE WINS')\n",
    "        playeronescore += 5\n",
    "        print('\\n')\n",
    "    elif dice2 > dice1:\n",
    "        print(f'PLAYER ONE SCORE ::: {dice1}')\n",
    "        print(f'PLAYER TWO SCORE ::: {dice2}')\n",
    "        print('PLAYER TWO WINS')\n",
    "        playertwoscore += 5\n",
    "        print('\\n')\n",
    "    else:\n",
    "        print(f'PLAYER ONE SCORE ::: {dice1}')\n",
    "        print(f'PLAYER TWO SCORE ::: {dice2}')\n",
    "        print('IT IS A DRAW')\n",
    "        playeronescore += 2\n",
    "        playertwoscore += 2\n",
    "        print('\\n')\n",
    "    if playeronescore > playertwoscore:\n",
    "        print(f'PLAYER ONE IS THE OVERALL WINNER WITH A TOTAL POINT OF {playeronescore}')\n",
    "    elif playertwoscore > playeronescore:\n",
    "        print(f'PLAYER TWO IS THE OVERALL WINNER WITH A TOTAL POINT OF {playertwoscore}')\n",
    "    else:\n",
    "        print('IT IS A DRAW')\n",
    "        \n",
    "diceroller()\n",
    "\n",
    "        \n",
    "        \n",
    "         \n",
    "   \n",
    "\n",
    "    "
   ]
  },
  {
   "cell_type": "code",
   "execution_count": null,
   "id": "70ff1ce8",
   "metadata": {},
   "outputs": [],
   "source": []
  },
  {
   "cell_type": "code",
   "execution_count": null,
   "id": "9024df75",
   "metadata": {},
   "outputs": [],
   "source": []
  }
 ],
 "metadata": {
  "kernelspec": {
   "display_name": "Python 3 (ipykernel)",
   "language": "python",
   "name": "python3"
  },
  "language_info": {
   "codemirror_mode": {
    "name": "ipython",
    "version": 3
   },
   "file_extension": ".py",
   "mimetype": "text/x-python",
   "name": "python",
   "nbconvert_exporter": "python",
   "pygments_lexer": "ipython3",
   "version": "3.9.12"
  }
 },
 "nbformat": 4,
 "nbformat_minor": 5
}
