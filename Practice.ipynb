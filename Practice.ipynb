{
 "cells": [
  {
   "cell_type": "code",
   "execution_count": 1,
   "id": "de9ebf13",
   "metadata": {},
   "outputs": [
    {
     "name": "stdout",
     "output_type": "stream",
     "text": [
      "Data type of num_string before Type Casting: <class 'str'>\n",
      "Data type of num_string after Type Casting: <class 'int'>\n",
      "Sum: 35\n",
      "Data type of num_sum: <class 'int'>\n"
     ]
    }
   ],
   "source": [
    "num_string = '12'\n",
    "num_integer = 23\n",
    "print(\"Data type of num_string before Type Casting:\",type(num_string))\n",
    "# explicit type conversion\n",
    "num_string = int(num_string)\n",
    "print(\"Data type of num_string after Type Casting:\",type(num_string))\n",
    "\n",
    "num_sum = num_integer + num_string\n",
    "\n",
    "print(\"Sum:\",num_sum)\n",
    "print(\"Data type of num_sum:\",type(num_sum))"
   ]
  },
  {
   "cell_type": "markdown",
   "id": "8011201e",
   "metadata": {},
   "source": [
    "# Implicit type conversion\n"
   ]
  },
  {
   "cell_type": "markdown",
   "id": "dcf59cc8",
   "metadata": {},
   "source": [
    "# Converting integer to float"
   ]
  },
  {
   "cell_type": "code",
   "execution_count": 2,
   "id": "49c5e32b",
   "metadata": {},
   "outputs": [
    {
     "name": "stdout",
     "output_type": "stream",
     "text": [
      "value: 124.24\n",
      "data type: <class 'float'>\n"
     ]
    }
   ],
   "source": [
    "integer_number = 123\n",
    "float_number = 1.24\n",
    "new_number = integer_number + float_number\n",
    "# display new value and resulting data type\n",
    "print('value:',new_number)\n",
    "print('data type:',type(new_number))"
   ]
  },
  {
   "cell_type": "code",
   "execution_count": 3,
   "id": "3ad1b92b",
   "metadata": {},
   "outputs": [
    {
     "name": "stdout",
     "output_type": "stream",
     "text": [
      "value: 301.9\n"
     ]
    }
   ],
   "source": [
    "integer_number = 234\n",
    "float_number = 67.9\n",
    "new_number = integer_number + float_number\n",
    "# display new value\n",
    "print('value:',new_number)"
   ]
  },
  {
   "cell_type": "markdown",
   "id": "ba760174",
   "metadata": {},
   "source": [
    "# display number 458 In float using print()\n"
   ]
  },
  {
   "cell_type": "code",
   "execution_count": 4,
   "id": "583b4658",
   "metadata": {},
   "outputs": [
    {
     "name": "stdout",
     "output_type": "stream",
     "text": [
      "458.0\n"
     ]
    }
   ],
   "source": [
    "number = float(458)\n",
    "print(number)"
   ]
  },
  {
   "cell_type": "markdown",
   "id": "dd5a16ef",
   "metadata": {},
   "source": [
    "# Addition of string and integer using Explicit conversion"
   ]
  },
  {
   "cell_type": "code",
   "execution_count": 6,
   "id": "81b1f4f2",
   "metadata": {},
   "outputs": [
    {
     "name": "stdout",
     "output_type": "stream",
     "text": [
      "Data type of num_string before type casting: <class 'str'>\n",
      "Data type of num_string after type casting: <class 'int'>\n",
      "sum: 156\n",
      "Data type of num_sum: <class 'int'>\n"
     ]
    }
   ],
   "source": [
    "num_string = '76'\n",
    "num_integer = 80\n",
    "print('Data type of num_string before type casting:',type(num_string))\n",
    "# explicit type conversion\n",
    "num_string = int(num_string)\n",
    "print('Data type of num_string after type casting:',type(num_string))\n",
    "num_sum = num_integer + num_string\n",
    "print('sum:',(num_sum))\n",
    "print('Data type of num_sum:', type(num_sum))\n"
   ]
  },
  {
   "cell_type": "code",
   "execution_count": 7,
   "id": "8a63070c",
   "metadata": {},
   "outputs": [
    {
     "name": "stdout",
     "output_type": "stream",
     "text": [
      "sum: 166\n"
     ]
    }
   ],
   "source": [
    "num_string = '80'\n",
    "num_integer = 86\n",
    "num_string = int(num_string)\n",
    "num_sum = num_integer + num_string\n",
    "print('sum:',(num_sum))\n"
   ]
  },
  {
   "cell_type": "code",
   "execution_count": 8,
   "id": "d6312e02",
   "metadata": {},
   "outputs": [],
   "source": [
    "# CONVERT THIS TO FLOAT AND STRING 45, 85, 90\n",
    "# CONVERT THIS TO INTEGER AND STRING 45.36, 80.25, 90.36\n",
    "# CONVERT THIS TO INTEGER AND FLOAT '70', '89.5', '77.88'\n"
   ]
  },
  {
   "cell_type": "markdown",
   "id": "83f8d903",
   "metadata": {},
   "source": [
    "# FLOAT"
   ]
  },
  {
   "cell_type": "code",
   "execution_count": 10,
   "id": "a86f063a",
   "metadata": {},
   "outputs": [],
   "source": [
    "num1 = float(45)"
   ]
  },
  {
   "cell_type": "code",
   "execution_count": 11,
   "id": "b75b2cd6",
   "metadata": {},
   "outputs": [
    {
     "name": "stdout",
     "output_type": "stream",
     "text": [
      "45.0\n"
     ]
    }
   ],
   "source": [
    "num2 = float(85)\n",
    "num3 = float(90)\n",
    "print(num1)\n",
    "    "
   ]
  },
  {
   "cell_type": "code",
   "execution_count": 13,
   "id": "53dc27ed",
   "metadata": {},
   "outputs": [
    {
     "name": "stdout",
     "output_type": "stream",
     "text": [
      "85.0\n"
     ]
    }
   ],
   "source": [
    "print(num2)"
   ]
  },
  {
   "cell_type": "code",
   "execution_count": 14,
   "id": "54d8ea8c",
   "metadata": {},
   "outputs": [
    {
     "name": "stdout",
     "output_type": "stream",
     "text": [
      "90.0\n"
     ]
    }
   ],
   "source": [
    "print(num3)"
   ]
  },
  {
   "cell_type": "markdown",
   "id": "989e6bcc",
   "metadata": {},
   "source": [
    "# string"
   ]
  },
  {
   "cell_type": "code",
   "execution_count": 16,
   "id": "9bee6180",
   "metadata": {},
   "outputs": [
    {
     "name": "stdout",
     "output_type": "stream",
     "text": [
      "45 85 90\n"
     ]
    }
   ],
   "source": [
    "num1 = str('45')\n",
    "num2 = str('85')\n",
    "num3 = str('90')\n",
    "print(num1, num2, num3)"
   ]
  },
  {
   "cell_type": "markdown",
   "id": "fe9592ce",
   "metadata": {},
   "source": [
    "# Integer"
   ]
  },
  {
   "cell_type": "code",
   "execution_count": 17,
   "id": "a6198674",
   "metadata": {},
   "outputs": [
    {
     "name": "stdout",
     "output_type": "stream",
     "text": [
      "45\n"
     ]
    }
   ],
   "source": [
    "num1 = int(45.36)\n",
    "print(num1)"
   ]
  },
  {
   "cell_type": "code",
   "execution_count": null,
   "id": "7af6ec5c",
   "metadata": {},
   "outputs": [],
   "source": []
  }
 ],
 "metadata": {
  "kernelspec": {
   "display_name": "Python 3 (ipykernel)",
   "language": "python",
   "name": "python3"
  },
  "language_info": {
   "codemirror_mode": {
    "name": "ipython",
    "version": 3
   },
   "file_extension": ".py",
   "mimetype": "text/x-python",
   "name": "python",
   "nbconvert_exporter": "python",
   "pygments_lexer": "ipython3",
   "version": "3.9.12"
  }
 },
 "nbformat": 4,
 "nbformat_minor": 5
}
