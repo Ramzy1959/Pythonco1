{
 "cells": [
  {
   "cell_type": "markdown",
   "id": "719f247a",
   "metadata": {},
   "source": [
    "# MODULES AND CONDITIONAL STATEMENT"
   ]
  },
  {
   "cell_type": "code",
   "execution_count": 2,
   "id": "6bf0ca28",
   "metadata": {},
   "outputs": [
    {
     "name": "stdout",
     "output_type": "stream",
     "text": [
      "['__doc__', '__loader__', '__name__', '__package__', '__spec__', 'acos', 'acosh', 'asin', 'asinh', 'atan', 'atan2', 'atanh', 'ceil', 'comb', 'copysign', 'cos', 'cosh', 'degrees', 'dist', 'e', 'erf', 'erfc', 'exp', 'expm1', 'fabs', 'factorial', 'floor', 'fmod', 'frexp', 'fsum', 'gamma', 'gcd', 'hypot', 'inf', 'isclose', 'isfinite', 'isinf', 'isnan', 'isqrt', 'lcm', 'ldexp', 'lgamma', 'log', 'log10', 'log1p', 'log2', 'modf', 'nan', 'nextafter', 'perm', 'pi', 'pow', 'prod', 'radians', 'remainder', 'sin', 'sinh', 'sqrt', 'tan', 'tanh', 'tau', 'trunc', 'ulp']\n"
     ]
    }
   ],
   "source": [
    "    import math\n",
    "    print(dir(math))"
   ]
  },
  {
   "cell_type": "code",
   "execution_count": 3,
   "id": "3b9802c0",
   "metadata": {},
   "outputs": [
    {
     "name": "stdout",
     "output_type": "stream",
     "text": [
      "16\n"
     ]
    }
   ],
   "source": [
    "num = 15.8\n",
    "print(math.ceil(num)) # ceil will round up and return an interger value"
   ]
  },
  {
   "cell_type": "code",
   "execution_count": 4,
   "id": "9006a58e",
   "metadata": {},
   "outputs": [
    {
     "name": "stdout",
     "output_type": "stream",
     "text": [
      "15\n"
     ]
    }
   ],
   "source": [
    "print(math.floor(num)) # floor will round off and return an integer value"
   ]
  },
  {
   "cell_type": "code",
   "execution_count": 5,
   "id": "ae625dbe",
   "metadata": {},
   "outputs": [
    {
     "name": "stdout",
     "output_type": "stream",
     "text": [
      "['Counter', 'Decimal', 'Fraction', 'NormalDist', 'StatisticsError', '__all__', '__builtins__', '__cached__', '__doc__', '__file__', '__loader__', '__name__', '__package__', '__spec__', '_coerce', '_convert', '_exact_ratio', '_fail_neg', '_find_lteq', '_find_rteq', '_isfinite', '_normal_dist_inv_cdf', '_ss', '_sum', 'bisect_left', 'bisect_right', 'erf', 'exp', 'fabs', 'fmean', 'fsum', 'geometric_mean', 'groupby', 'harmonic_mean', 'hypot', 'itemgetter', 'log', 'math', 'mean', 'median', 'median_grouped', 'median_high', 'median_low', 'mode', 'multimode', 'numbers', 'pstdev', 'pvariance', 'quantiles', 'random', 'sqrt', 'stdev', 'tau', 'variance']\n"
     ]
    }
   ],
   "source": [
    "import statistics as stat\n",
    "print(dir(stat))"
   ]
  },
  {
   "cell_type": "code",
   "execution_count": 6,
   "id": "1a1a1d7e",
   "metadata": {},
   "outputs": [
    {
     "name": "stdout",
     "output_type": "stream",
     "text": [
      "78.77777777777777\n"
     ]
    }
   ],
   "source": [
    "score = [85, 90, 82, 80, 90, 65, 60, 78,79]\n",
    "print(stat.mean(score))"
   ]
  },
  {
   "cell_type": "code",
   "execution_count": 8,
   "id": "a30acd89",
   "metadata": {},
   "outputs": [
    {
     "name": "stdout",
     "output_type": "stream",
     "text": [
      "78.78\n"
     ]
    }
   ],
   "source": [
    "score = [85, 90, 82, 80, 90, 65, 60, 78,79]\n",
    "print(round(stat.mean(score),2))"
   ]
  },
  {
   "cell_type": "code",
   "execution_count": 9,
   "id": "217c3364",
   "metadata": {},
   "outputs": [
    {
     "name": "stdout",
     "output_type": "stream",
     "text": [
      "80\n"
     ]
    }
   ],
   "source": [
    "print(stat.median(score))"
   ]
  },
  {
   "cell_type": "code",
   "execution_count": 10,
   "id": "f8a146d7",
   "metadata": {},
   "outputs": [
    {
     "name": "stdout",
     "output_type": "stream",
     "text": [
      "['BPF', 'LOG4', 'NV_MAGICCONST', 'RECIP_BPF', 'Random', 'SG_MAGICCONST', 'SystemRandom', 'TWOPI', '_Sequence', '_Set', '__all__', '__builtins__', '__cached__', '__doc__', '__file__', '__loader__', '__name__', '__package__', '__spec__', '_accumulate', '_acos', '_bisect', '_ceil', '_cos', '_e', '_exp', '_floor', '_inst', '_log', '_os', '_pi', '_random', '_repeat', '_sha512', '_sin', '_sqrt', '_test', '_test_generator', '_urandom', '_warn', 'betavariate', 'choice', 'choices', 'expovariate', 'gammavariate', 'gauss', 'getrandbits', 'getstate', 'lognormvariate', 'normalvariate', 'paretovariate', 'randbytes', 'randint', 'random', 'randrange', 'sample', 'seed', 'setstate', 'shuffle', 'triangular', 'uniform', 'vonmisesvariate', 'weibullvariate']\n"
     ]
    }
   ],
   "source": [
    "import random\n",
    "print(dir(random))"
   ]
  },
  {
   "cell_type": "code",
   "execution_count": 11,
   "id": "15d4393f",
   "metadata": {},
   "outputs": [
    {
     "data": {
      "text/plain": [
       "49"
      ]
     },
     "execution_count": 11,
     "metadata": {},
     "output_type": "execute_result"
    }
   ],
   "source": [
    "random.randint(14, 85)"
   ]
  },
  {
   "cell_type": "code",
   "execution_count": 12,
   "id": "a22962f8",
   "metadata": {},
   "outputs": [
    {
     "data": {
      "text/plain": [
       "82"
      ]
     },
     "execution_count": 12,
     "metadata": {},
     "output_type": "execute_result"
    }
   ],
   "source": [
    "random.choice(score)"
   ]
  },
  {
   "cell_type": "code",
   "execution_count": 14,
   "id": "8d73d063",
   "metadata": {},
   "outputs": [
    {
     "name": "stdout",
     "output_type": "stream",
     "text": [
      "please provide your age: 14\n",
      "sorry our Academy only accept 18 years upward\n"
     ]
    }
   ],
   "source": [
    "age = int(input('please provide your age:'))\n",
    "if age <= 17:\n",
    "    print('sorry our Academy only accept 18 years upward')"
   ]
  },
  {
   "cell_type": "code",
   "execution_count": 17,
   "id": "0115b1ef",
   "metadata": {},
   "outputs": [
    {
     "name": "stdout",
     "output_type": "stream",
     "text": [
      "please provide your age: 25\n",
      "congratulations you are moving to the next stage\n"
     ]
    }
   ],
   "source": [
    "age = int(input('please provide your age:'))\n",
    "if age<= 17:\n",
    "    print('sorry our Academy only accept 18 years upward')\n",
    "else:\n",
    "        print('congratulations you are moving to the next stage')"
   ]
  },
  {
   "cell_type": "code",
   "execution_count": 19,
   "id": "4b1a662e",
   "metadata": {},
   "outputs": [
    {
     "name": "stdout",
     "output_type": "stream",
     "text": [
      "please provide a number: -4\n",
      "Negatve outcome\n"
     ]
    }
   ],
   "source": [
    "num = int(input('please provide a number:'))\n",
    "if num > 0:\n",
    "    print('positive outcome')\n",
    "else:\n",
    "        print('Negatve outcome')\n",
    "        "
   ]
  },
  {
   "cell_type": "code",
   "execution_count": 23,
   "id": "85328d8f",
   "metadata": {},
   "outputs": [
    {
     "name": "stdout",
     "output_type": "stream",
     "text": [
      "please provide a number:4\n",
      "positive outcome\n"
     ]
    }
   ],
   "source": [
    "num = int(input('please provide a number:'))\n",
    "if num > 0:\n",
    "    print('positive outcome')\n",
    "else:\n",
    "    if num < 0:\n",
    "        print('Negative outcome')\n",
    "    else:\n",
    "        print('outcome is zero')\n",
    "        \n",
    "            \n",
    "             "
   ]
  },
  {
   "cell_type": "code",
   "execution_count": 28,
   "id": "ecec785c",
   "metadata": {},
   "outputs": [
    {
     "name": "stdout",
     "output_type": "stream",
     "text": [
      "ITEM WEIGHT IN KG: 10\n",
      "ITEM CONDITIONnon-fragile\n",
      "Your total shipping fee is 750.0\n"
     ]
    }
   ],
   "source": [
    "weight = float(input('ITEM WEIGHT IN KG:'))\n",
    "condition = input('ITEM CONDITION')\n",
    "if weight <=10 and condition == 'fragile':\n",
    "    amount = weight * 150\n",
    "    print(f'Your total shipping fee is {amount}')\n",
    "elif weight <=10 and condition == 'non-fragile':\n",
    "    amount = weight * 75\n",
    "    print(f'Your total shipping fee is {amount}')\n",
    "elif weight > 10 and condition == 'non-fragile':\n",
    "    amount = weight * 150\n",
    "    print(f'Your total shipping fee is {amount}')\n",
    "elif weight >10 and condition == 'fragile':\n",
    "    amount = weight * 300\n",
    "    print(f'Your total shipping fee is {amount}')\n",
    "\n"
   ]
  },
  {
   "cell_type": "code",
   "execution_count": 29,
   "id": "5a7b35b5",
   "metadata": {},
   "outputs": [
    {
     "name": "stdout",
     "output_type": "stream",
     "text": [
      "ITEM WEIGHT IN KG:10\n",
      "ITEM CONDITIONfragile\n",
      "Your total shipping fee is 1500.0\n"
     ]
    }
   ],
   "source": [
    "weight = float(input('ITEM WEIGHT IN KG:'))\n",
    "condition = input('ITEM CONDITION')\n",
    "if weight <=10 and condition == 'fragile':\n",
    "    amount = weight * 150\n",
    "    print(f'Your total shipping fee is {amount}')\n",
    "elif weight <=10 and condition == 'non-fragile':\n",
    "    amount = weight * 75\n",
    "    print(f'Your total shipping fee is {amount}')\n",
    "elif weight > 10 and condition == 'non-fragile':\n",
    "    amount = weight * 150\n",
    "    print(f'Your total shipping fee is {amount}')\n",
    "elif weight >10 and condition == 'fragile':\n",
    "    amount = weight * 300\n",
    "    print(f'Your total shipping fee is {amount}')"
   ]
  },
  {
   "cell_type": "code",
   "execution_count": 30,
   "id": "10d27aec",
   "metadata": {},
   "outputs": [
    {
     "name": "stdout",
     "output_type": "stream",
     "text": [
      "1592.8226704636886\n"
     ]
    }
   ],
   "source": [
    "num = 27.8\n",
    "print(math.degrees(num))"
   ]
  },
  {
   "cell_type": "code",
   "execution_count": 1,
   "id": "40be050a",
   "metadata": {},
   "outputs": [
    {
     "name": "stdout",
     "output_type": "stream",
     "text": [
      "['DirEntry', 'F_OK', 'GenericAlias', 'Mapping', 'MutableMapping', 'O_APPEND', 'O_BINARY', 'O_CREAT', 'O_EXCL', 'O_NOINHERIT', 'O_RANDOM', 'O_RDONLY', 'O_RDWR', 'O_SEQUENTIAL', 'O_SHORT_LIVED', 'O_TEMPORARY', 'O_TEXT', 'O_TRUNC', 'O_WRONLY', 'P_DETACH', 'P_NOWAIT', 'P_NOWAITO', 'P_OVERLAY', 'P_WAIT', 'PathLike', 'R_OK', 'SEEK_CUR', 'SEEK_END', 'SEEK_SET', 'TMP_MAX', 'W_OK', 'X_OK', '_AddedDllDirectory', '_Environ', '__all__', '__builtins__', '__cached__', '__doc__', '__file__', '__loader__', '__name__', '__package__', '__spec__', '_check_methods', '_execvpe', '_exists', '_exit', '_fspath', '_get_exports_list', '_walk', '_wrap_close', 'abc', 'abort', 'access', 'add_dll_directory', 'altsep', 'chdir', 'chmod', 'close', 'closerange', 'cpu_count', 'curdir', 'defpath', 'device_encoding', 'devnull', 'dup', 'dup2', 'environ', 'error', 'execl', 'execle', 'execlp', 'execlpe', 'execv', 'execve', 'execvp', 'execvpe', 'extsep', 'fdopen', 'fsdecode', 'fsencode', 'fspath', 'fstat', 'fsync', 'ftruncate', 'get_exec_path', 'get_handle_inheritable', 'get_inheritable', 'get_terminal_size', 'getcwd', 'getcwdb', 'getenv', 'getlogin', 'getpid', 'getppid', 'isatty', 'kill', 'linesep', 'link', 'listdir', 'lseek', 'lstat', 'makedirs', 'mkdir', 'name', 'open', 'pardir', 'path', 'pathsep', 'pipe', 'popen', 'putenv', 'read', 'readlink', 'remove', 'removedirs', 'rename', 'renames', 'replace', 'rmdir', 'scandir', 'sep', 'set_handle_inheritable', 'set_inheritable', 'spawnl', 'spawnle', 'spawnv', 'spawnve', 'st', 'startfile', 'stat', 'stat_result', 'statvfs_result', 'strerror', 'supports_bytes_environ', 'supports_dir_fd', 'supports_effective_ids', 'supports_fd', 'supports_follow_symlinks', 'symlink', 'sys', 'system', 'terminal_size', 'times', 'times_result', 'truncate', 'umask', 'uname_result', 'unlink', 'unsetenv', 'urandom', 'utime', 'waitpid', 'waitstatus_to_exitcode', 'walk', 'write']\n"
     ]
    }
   ],
   "source": [
    "import os\n",
    "print(dir(os))\n"
   ]
  },
  {
   "cell_type": "code",
   "execution_count": 3,
   "id": "0672e14b",
   "metadata": {},
   "outputs": [
    {
     "name": "stdout",
     "output_type": "stream",
     "text": [
      "['__doc__', '__loader__', '__name__', '__package__', '__spec__', 'acos', 'acosh', 'asin', 'asinh', 'atan', 'atan2', 'atanh', 'ceil', 'comb', 'copysign', 'cos', 'cosh', 'degrees', 'dist', 'e', 'erf', 'erfc', 'exp', 'expm1', 'fabs', 'factorial', 'floor', 'fmod', 'frexp', 'fsum', 'gamma', 'gcd', 'hypot', 'inf', 'isclose', 'isfinite', 'isinf', 'isnan', 'isqrt', 'lcm', 'ldexp', 'lgamma', 'log', 'log10', 'log1p', 'log2', 'modf', 'nan', 'nextafter', 'perm', 'pi', 'pow', 'prod', 'radians', 'remainder', 'sin', 'sinh', 'sqrt', 'tan', 'tanh', 'tau', 'trunc', 'ulp']\n"
     ]
    }
   ],
   "source": [
    "import math\n",
    "print(dir(math))"
   ]
  },
  {
   "cell_type": "code",
   "execution_count": 4,
   "id": "17e0e4e9",
   "metadata": {},
   "outputs": [
    {
     "name": "stdout",
     "output_type": "stream",
     "text": [
      "1.3159703454569178\n"
     ]
    }
   ],
   "source": [
    "num = 20.7\n",
    "print(math.log10(num))"
   ]
  },
  {
   "cell_type": "code",
   "execution_count": 6,
   "id": "0b8b3cd2",
   "metadata": {},
   "outputs": [
    {
     "name": "stdout",
     "output_type": "stream",
     "text": [
      "please provide your age:13\n",
      "sorry our Academy only accept 18 years upward\n"
     ]
    }
   ],
   "source": [
    "age = int(input('please provide your age:'))\n",
    "if age <= 19:\n",
    "    print('sorry our Academy only accept 18 years upward')\n"
   ]
  },
  {
   "cell_type": "code",
   "execution_count": 7,
   "id": "4d7a651c",
   "metadata": {},
   "outputs": [
    {
     "name": "stdout",
     "output_type": "stream",
     "text": [
      "please provide your age19\n",
      "sorry our Academy accept 18 years upward\n"
     ]
    }
   ],
   "source": [
    "age = int(input('please provide your age'))\n",
    "if age <= 33:\n",
    "    print('sorry our Academy accept 18 years upward')"
   ]
  },
  {
   "cell_type": "code",
   "execution_count": 8,
   "id": "7ee5ede6",
   "metadata": {},
   "outputs": [
    {
     "name": "stdout",
     "output_type": "stream",
     "text": [
      "please provide a number4\n",
      "positive outcome\n"
     ]
    }
   ],
   "source": [
    "num = int(input('please provide a number'))\n",
    "if num > 0:\n",
    "    print('positive outcome')\n",
    "else: print('Negative outcome')"
   ]
  },
  {
   "cell_type": "code",
   "execution_count": null,
   "id": "8d56ed91",
   "metadata": {},
   "outputs": [],
   "source": []
  }
 ],
 "metadata": {
  "kernelspec": {
   "display_name": "Python 3 (ipykernel)",
   "language": "python",
   "name": "python3"
  },
  "language_info": {
   "codemirror_mode": {
    "name": "ipython",
    "version": 3
   },
   "file_extension": ".py",
   "mimetype": "text/x-python",
   "name": "python",
   "nbconvert_exporter": "python",
   "pygments_lexer": "ipython3",
   "version": "3.9.12"
  }
 },
 "nbformat": 4,
 "nbformat_minor": 5
}
