{
 "cells": [
  {
   "cell_type": "markdown",
   "id": "6cb9500e",
   "metadata": {},
   "source": [
    "# write a python program to find those numbers which are divisible by 7 and 5 between 1500 and 2700(Both included)"
   ]
  },
  {
   "cell_type": "markdown",
   "id": "9e043ce9",
   "metadata": {},
   "source": [
    "start_num = int(1500)\n",
    "end_num = int(2700)\n",
    "#initialise counter with starting number\n",
    "counter = start number\n",
    "\n",
    "\n",
    "    "
   ]
  },
  {
   "cell_type": "raw",
   "id": "11576f02",
   "metadata": {},
   "source": []
  },
  {
   "cell_type": "code",
   "execution_count": 4,
   "id": "67ce3b06",
   "metadata": {},
   "outputs": [
    {
     "ename": "SyntaxError",
     "evalue": "invalid syntax (2537077712.py, line 1)",
     "output_type": "error",
     "traceback": [
      "\u001b[1;36m  Input \u001b[1;32mIn [4]\u001b[1;36m\u001b[0m\n\u001b[1;33m    def divisiblenumbers(*numbers)\u001b[0m\n\u001b[1;37m                                  ^\u001b[0m\n\u001b[1;31mSyntaxError\u001b[0m\u001b[1;31m:\u001b[0m invalid syntax\n"
     ]
    }
   ],
   "source": [
    "def divisiblenumbers(*numbers)\n",
    "print(type(numbers))\n",
    "import statistics as stat:\n",
    "    print(f'the even number in the following number series{numbers} is {stat.even(numbers)}')\n",
    "divisiblenumbers(2, 8, 6, 4, 8, 10, 12, 14, 18)\n"
   ]
  },
  {
   "cell_type": "code",
   "execution_count": null,
   "id": "1e233033",
   "metadata": {},
   "outputs": [],
   "source": []
  }
 ],
 "metadata": {
  "kernelspec": {
   "display_name": "Python 3 (ipykernel)",
   "language": "python",
   "name": "python3"
  },
  "language_info": {
   "codemirror_mode": {
    "name": "ipython",
    "version": 3
   },
   "file_extension": ".py",
   "mimetype": "text/x-python",
   "name": "python",
   "nbconvert_exporter": "python",
   "pygments_lexer": "ipython3",
   "version": "3.9.12"
  }
 },
 "nbformat": 4,
 "nbformat_minor": 5
}
