{
 "cells": [
  {
   "cell_type": "code",
   "execution_count": 3,
   "id": "d791e74c",
   "metadata": {},
   "outputs": [
    {
     "name": "stdout",
     "output_type": "stream",
     "text": [
      "Hello Dr Ade this is a reminder of our meeting by 5pm\n",
      "Hello Dr Hope this is a reminder of our meeting by 5pm\n",
      "Hello Mr Kunle this is a reminder of our meeting by 5pm\n"
     ]
    }
   ],
   "source": [
    "names = ['Dr Ade', 'Dr Hope', 'Mr Kunle']\n",
    "for name in names:\n",
    "    print(f'Hello {name} this is a reminder of our meeting by 5pm')"
   ]
  },
  {
   "cell_type": "code",
   "execution_count": 4,
   "id": "7a8bda0b",
   "metadata": {},
   "outputs": [
    {
     "name": "stdout",
     "output_type": "stream",
     "text": [
      "Hello Dr Chukwudi Johnson this is to remind you of our meeting by 2 pm\n",
      "Hello Ekezie Kingsley this is to remind you of our meeting by 2 pm\n",
      "Hello Mr Chibuzo Ujoh this is to remind you of our meeting by 2 pm\n"
     ]
    }
   ],
   "source": [
    "names = ['Dr Chukwudi Johnson', 'Ekezie Kingsley', 'Mr Chibuzo Ujoh']\n",
    "for name in names:\n",
    "    print(f'Hello {name} this is to remind you of our meeting by 2 pm')"
   ]
  },
  {
   "cell_type": "code",
   "execution_count": 6,
   "id": "9fb46c21",
   "metadata": {},
   "outputs": [
    {
     "name": "stdout",
     "output_type": "stream",
     "text": [
      "HelloNnenna this is to inform everyone that we have rerouted our transcript due to the security impediments\n",
      "HelloChikodi this is to inform everyone that we have rerouted our transcript due to the security impediments\n",
      "HelloChidalu this is to inform everyone that we have rerouted our transcript due to the security impediments\n"
     ]
    }
   ],
   "source": [
    "names = ['Nnenna', 'Chikodi', 'Chidalu']\n",
    "for name in names:\n",
    "    print(f'Hello{name} this is to inform everyone that we have rerouted our transcript due to the security impediments')\n"
   ]
  },
  {
   "cell_type": "code",
   "execution_count": 7,
   "id": "bd1b35db",
   "metadata": {},
   "outputs": [
    {
     "name": "stdout",
     "output_type": "stream",
     "text": [
      "please provide a number: 1\n",
      "the sqrt of 1 is 1.0\n",
      "please provide a number1\n",
      "the sqrt of 1 is 1.0\n",
      "please provide a number7\n",
      "the sqrt of 7 is 2.6457513110645907\n",
      "please provide a number9\n",
      "the sqrt of 9 is 3.0\n",
      "please provide a number0\n"
     ]
    }
   ],
   "source": [
    "import math\n",
    "usernum = int(input('please provide a number:'))\n",
    "counter =1\n",
    "while usernum != 0:\n",
    "    print(f'the sqrt of {usernum} is {math.sqrt(usernum)}')\n",
    "    usernum = int(input('please provide a number'))\n",
    "    counter = counter + 1\n",
    "\n"
   ]
  },
  {
   "cell_type": "code",
   "execution_count": 10,
   "id": "a2a9a664",
   "metadata": {},
   "outputs": [
    {
     "name": "stdout",
     "output_type": "stream",
     "text": [
      "79\n",
      "67\n",
      "66\n",
      "50\n",
      "36\n"
     ]
    }
   ],
   "source": [
    "nums = [79, 67, 66, 50, 36]\n",
    "\n",
    "for i in nums:\n",
    "    print(i)"
   ]
  },
  {
   "cell_type": "code",
   "execution_count": null,
   "id": "86a2f6f2",
   "metadata": {},
   "outputs": [],
   "source": []
  }
 ],
 "metadata": {
  "kernelspec": {
   "display_name": "Python 3 (ipykernel)",
   "language": "python",
   "name": "python3"
  },
  "language_info": {
   "codemirror_mode": {
    "name": "ipython",
    "version": 3
   },
   "file_extension": ".py",
   "mimetype": "text/x-python",
   "name": "python",
   "nbconvert_exporter": "python",
   "pygments_lexer": "ipython3",
   "version": "3.9.12"
  }
 },
 "nbformat": 4,
 "nbformat_minor": 5
}
