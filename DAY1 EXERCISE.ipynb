{
 "cells": [
  {
   "cell_type": "markdown",
   "id": "1c84e11d",
   "metadata": {},
   "source": [
    "# we're brothers from the other side of the town"
   ]
  },
  {
   "cell_type": "code",
   "execution_count": 4,
   "id": "d6390775",
   "metadata": {},
   "outputs": [
    {
     "name": "stdout",
     "output_type": "stream",
     "text": [
      "we're brothers from the other side of the town\n"
     ]
    }
   ],
   "source": [
    "word = 'we\\'re brothers from the other side of the town'\n",
    "print(word)"
   ]
  },
  {
   "cell_type": "code",
   "execution_count": 6,
   "id": "bf5360f4",
   "metadata": {},
   "outputs": [
    {
     "name": "stdout",
     "output_type": "stream",
     "text": [
      "we're brothers from the other side of the town\n"
     ]
    }
   ],
   "source": [
    "word = 'we\\'re brothers from the other side of the town'\n",
    "print(word)"
   ]
  },
  {
   "cell_type": "code",
   "execution_count": 7,
   "id": "295be89c",
   "metadata": {},
   "outputs": [
    {
     "name": "stdout",
     "output_type": "stream",
     "text": [
      "i love being in love with an asian girl, who is new here\n"
     ]
    }
   ],
   "source": [
    "word = 'i love being in love with an asian girl, who is new here'\n",
    "print(word)"
   ]
  },
  {
   "cell_type": "code",
   "execution_count": 9,
   "id": "3b87bd4d",
   "metadata": {},
   "outputs": [
    {
     "name": "stdout",
     "output_type": "stream",
     "text": [
      "python is fun,\n",
      "python is easy,\n",
      "python is good\n"
     ]
    }
   ],
   "source": [
    "word2 = 'python is fun,\\npython is easy,\\npython is good'\n",
    "print(word2)"
   ]
  },
  {
   "cell_type": "code",
   "execution_count": 11,
   "id": "63c3a9be",
   "metadata": {},
   "outputs": [
    {
     "name": "stdout",
     "output_type": "stream",
     "text": [
      "python is the best, \n",
      "python educates, \n",
      "python pays\n"
     ]
    }
   ],
   "source": [
    "word3 = 'python is the best, \\npython educates, \\npython pays'\n",
    "print(word3)"
   ]
  },
  {
   "cell_type": "code",
   "execution_count": 12,
   "id": "40b7df32",
   "metadata": {},
   "outputs": [
    {
     "name": "stdout",
     "output_type": "stream",
     "text": [
      " i felt happy because i saw that the othes were happy and because i knew i should be happy, but i wasn't really happy.\n"
     ]
    }
   ],
   "source": [
    "text = ''' i felt happy because i saw that the othes were happy and because i knew i should be happy, but i wasn't really happy.'''\n",
    "print(text)"
   ]
  },
  {
   "cell_type": "code",
   "execution_count": null,
   "id": "843a6a73",
   "metadata": {},
   "outputs": [],
   "source": [
    "bank records = {\n",
    "    \n",
    "    '23456':['Mary Adenuga', 'Female',45700],\n",
    "    '34567':['Okezuo Amechi', 'Female',78500],\n",
    "    '98908':['Uchenna Odinaka', 'Male',250000],\n",
    "    '78953':['Chialuka Obirin', 'Male',436000]\n",
    "\n",
    "}\n",
    "\n",
    "\n",
    "    \n",
    "            "
   ]
  },
  {
   "cell_type": "code",
   "execution_count": null,
   "id": "f34f80cc",
   "metadata": {},
   "outputs": [],
   "source": []
  }
 ],
 "metadata": {
  "kernelspec": {
   "display_name": "Python 3 (ipykernel)",
   "language": "python",
   "name": "python3"
  },
  "language_info": {
   "codemirror_mode": {
    "name": "ipython",
    "version": 3
   },
   "file_extension": ".py",
   "mimetype": "text/x-python",
   "name": "python",
   "nbconvert_exporter": "python",
   "pygments_lexer": "ipython3",
   "version": "3.9.12"
  }
 },
 "nbformat": 4,
 "nbformat_minor": 5
}
