{
 "cells": [
  {
   "cell_type": "markdown",
   "id": "18a1c32a",
   "metadata": {},
   "source": [
    "# write a progam to generate a dice for two players, this dice will be rolled ten times,for each round write a condition to display the winner or a draw if player one wins add 5point if player two wins add 5point else add 2 point each and finally write a condition to dsiplay the over all winner note: you are to define a function for this program"
   ]
  },
  {
   "cell_type": "code",
   "execution_count": 7,
   "id": "7fed825d",
   "metadata": {},
   "outputs": [
    {
     "name": "stdout",
     "output_type": "stream",
     "text": [
      "PLAYER ONE SCORE:: 7\n",
      "PLAYER TWO SCORE:: 6\n",
      "PLAYER ONE WINS\n",
      "\n",
      "\n",
      "PLAYER ONE SCORE:: 7\n",
      "PLAYER TWO SCORE:: 11\n",
      "PLAYER TWO WINS\n",
      "\n",
      "\n",
      "PLAYER ONE SCORE:: 8\n",
      "PLAYER TWO SCORE:: 7\n",
      "PLAYER ONE WINS\n",
      "\n",
      "\n",
      "PLAYER ONE SCORE:: 6\n",
      "PLAYER TWO SCORE:: 12\n",
      "PLAYER TWO WINS\n",
      "\n",
      "\n",
      "PLAYER ONE SCORE:: 7\n",
      "PLAYER TWO SCORE:: 6\n",
      "PLAYER ONE WINS\n",
      "\n",
      "\n",
      "PLAYER ONE SCORE:: 9\n",
      "PLAYER TWO SCORE:: 7\n",
      "PLAYER ONE WINS\n",
      "\n",
      "\n",
      "PLAYER ONE SCORE:: 7\n",
      "PLAYER TWO SCORE:: 8\n",
      "PLAYER TWO WINS\n",
      "\n",
      "\n",
      "PLAYER ONE SCORE:: 5\n",
      "PLAYER TWO SCORE:: 6\n",
      "PLAYER TWO WINS\n",
      "\n",
      "\n",
      "PLAYER ONE SCORE:: 9\n",
      "PLAYER TWO SCORE:: 9\n",
      "IT IS A DRAW\n",
      "\n",
      "\n",
      "PLAYER ONE SCORE:: 5\n",
      "PLAYER TWO SCORE:: 7\n",
      "PLAYER TWO WINS\n",
      "\n",
      "\n",
      "PLAYER TWO IS THE OVERALL WINNER WITH A TOTAL POINT OF 27\n"
     ]
    }
   ],
   "source": [
    "def diceroller():\n",
    "    import random\n",
    "    playeronescore = 0\n",
    "    playertwoscore = 0\n",
    "    for i in range(1,11):\n",
    "        dice1 = random.randint(1,6) + random.randint(1,6)\n",
    "        dice2 = random.randint(1,6) + random.randint(1,6)\n",
    "        if dice1 > dice2:\n",
    "            print(f'PLAYER ONE SCORE:: {dice1}')\n",
    "            print(f'PLAYER TWO SCORE:: {dice2}')\n",
    "            print('PLAYER ONE WINS')\n",
    "            playeronescore += 5\n",
    "            print('\\n')\n",
    "        elif dice2 > dice1:\n",
    "            print(f'PLAYER ONE SCORE:: {dice1}')\n",
    "            print(f'PLAYER TWO SCORE:: {dice2}')\n",
    "            print('PLAYER TWO WINS')\n",
    "            playertwoscore += 5\n",
    "            print('\\n')\n",
    "        else:\n",
    "            print(f'PLAYER ONE SCORE:: {dice1}')\n",
    "            print(f'PLAYER TWO SCORE:: {dice2}')\n",
    "            print('IT IS A DRAW')\n",
    "            playeronescore += 2\n",
    "            playertwoscore += 2\n",
    "            print('\\n')\n",
    "    if playeronescore > playertwoscore:\n",
    "            print(f'PLAYER ONE IS THE OVERALL WINNER WITH A TOTAL POINT OF {playeronescore}')\n",
    "    elif playertwoscore > playeronescore:\n",
    "            print(f'PLAYER TWO IS THE OVERALL WINNER WITH A TOTAL POINT OF {playertwoscore}')\n",
    "    else:\n",
    "            print('IT IS A DRAW')\n",
    "diceroller()\n",
    "                  \n",
    "            \n",
    "            \n",
    "\n",
    "         \n",
    "        "
   ]
  },
  {
   "cell_type": "markdown",
   "id": "b80ce44b",
   "metadata": {},
   "source": [
    "# Error handling"
   ]
  },
  {
   "cell_type": "code",
   "execution_count": 9,
   "id": "880cc762",
   "metadata": {},
   "outputs": [
    {
     "name": "stdout",
     "output_type": "stream",
     "text": [
      "Enter first number:45\n",
      "Enter second number:7\n",
      "Pick an operation [+, -, /, *]:+\n",
      " 45 + 7 = 52\n"
     ]
    }
   ],
   "source": [
    "try:\n",
    "    num1 = int(input('Enter first number:'))\n",
    "    num2 = int(input('Enter second number:'))\n",
    "    option = input('Pick an operation [+, -, /, *]:')\n",
    "    if option == '+':\n",
    "        print(f' {num1} + {num2} = {num1 + num2}')\n",
    "    elif option == '-':\n",
    "        print(f' {num1} - {num2} = {num1 - num2}')\n",
    "    elif option == '/':\n",
    "        print(f' {num1} / {num2} = {num1 / num2}')\n",
    "    elif option == '*':\n",
    "        print(f' {num1} * {num2} = {num1 * num2}')\n",
    "except:\n",
    "    print('You have encountered one or more errors')\n",
    "        \n",
    "    \n",
    "    "
   ]
  },
  {
   "cell_type": "code",
   "execution_count": 10,
   "id": "37fab8c1",
   "metadata": {},
   "outputs": [
    {
     "name": "stdout",
     "output_type": "stream",
     "text": [
      "Enter first number:25\n",
      "Enter second number:2\n",
      "Pick an operation [+, -, /, *]:*\n",
      " 25 * 2 = 50\n",
      "625\n",
      "END OF PROGRAM\n"
     ]
    }
   ],
   "source": [
    "try:\n",
    "    num1 = int(input('Enter first number:'))\n",
    "    num2 = int(input('Enter second number:'))\n",
    "    option = input('Pick an operation [+, -, /, *]:')\n",
    "    if option == '+':\n",
    "        print(f' {num1} + {num2} = {num1 + num2}')\n",
    "    elif option == '-':\n",
    "        print(f' {num1} - {num2} = {num1 - num2}')\n",
    "    elif option == '/':\n",
    "        print(f' {num1} / {num2} = {num1 / num2}')\n",
    "    elif option == '*':\n",
    "        print(f' {num1} * {num2} = {num1 * num2}')\n",
    "except valueError:\n",
    "    print('SORRY ONLY WHOLE NUMBERS ARE EXPECTED')\n",
    "except ZeroDivisionError:\n",
    "    print('SORRY YOU CANNOT DIVIDE A NUMBER BY ZERO')\n",
    "except:\n",
    "    print('You have encountered one or more errors')\n",
    "else:\n",
    "    print(num1 ** num2)\n",
    "finally:\n",
    "    print('END OF PROGRAM')\n",
    "    "
   ]
  },
  {
   "cell_type": "code",
   "execution_count": 16,
   "id": "b9bf4b31",
   "metadata": {},
   "outputs": [
    {
     "name": "stdout",
     "output_type": "stream",
     "text": [
      "Enter your first number:10\n",
      "Enter your second number:4\n",
      "pick an operation [+, -, /, *]:*\n",
      " 10 * 4 = 10 * 4 \n",
      "10000\n",
      "END OF PROGRAM\n"
     ]
    }
   ],
   "source": [
    "try:\n",
    "    num1 = int(input('Enter your first number:'))\n",
    "    num2 = int(input('Enter your second number:'))\n",
    "    option = input('pick an operation [+, -, /, *]:')\n",
    "    if option == '+':\n",
    "        print(f' {num1} + {num2} = {num1} + {num2}')\n",
    "    elif option == '-':\n",
    "        print(f' {num1} - {num2} = {num1} - {num2}')\n",
    "    elif option == '/':\n",
    "        print(f' {num1} / {num2} = {num1} / {num2}')\n",
    "    elif option == '*':\n",
    "        print(f' {num1} * {num2} = {num1} * {num2} ')\n",
    "except valueError:\n",
    "    print('SORRY ONLY WHOLE NUMBERS ARE ACCEPTED')\n",
    "except ZerodivisionError:\n",
    "    print('SORRY YOU CANNOT DIVIDE A NUMBER BY ZERO')\n",
    "except:\n",
    "    print('you have encountered one or more errors')\n",
    "else:\n",
    "    print(num1 ** num2)\n",
    "finally:\n",
    "    print('END OF PROGRAM')\n",
    "    "
   ]
  },
  {
   "cell_type": "code",
   "execution_count": null,
   "id": "6397e741",
   "metadata": {},
   "outputs": [],
   "source": []
  }
 ],
 "metadata": {
  "kernelspec": {
   "display_name": "Python 3 (ipykernel)",
   "language": "python",
   "name": "python3"
  },
  "language_info": {
   "codemirror_mode": {
    "name": "ipython",
    "version": 3
   },
   "file_extension": ".py",
   "mimetype": "text/x-python",
   "name": "python",
   "nbconvert_exporter": "python",
   "pygments_lexer": "ipython3",
   "version": "3.9.12"
  }
 },
 "nbformat": 4,
 "nbformat_minor": 5
}
