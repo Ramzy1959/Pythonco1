{
 "cells": [
  {
   "cell_type": "code",
   "execution_count": 1,
   "id": "601b1dcf",
   "metadata": {},
   "outputs": [
    {
     "data": {
      "text/plain": [
       "'male'"
      ]
     },
     "execution_count": 1,
     "metadata": {},
     "output_type": "execute_result"
    }
   ],
   "source": [
    "class person:\n",
    "    attr1 = 'male'\n",
    "    attr2 = 'Dark'\n",
    "obj = person()\n",
    "obj.attr1"
   ]
  },
  {
   "cell_type": "code",
   "execution_count": 3,
   "id": "7efff783",
   "metadata": {},
   "outputs": [
    {
     "name": "stdout",
     "output_type": "stream",
     "text": [
      "i can talk\n"
     ]
    }
   ],
   "source": [
    "class person:\n",
    "    attr1 = 'male'\n",
    "    attr2 = 'Dark'\n",
    "    def talk(self):\n",
    "        print('i can talk')\n",
    "obj = person()\n",
    "obj.talk()"
   ]
  },
  {
   "cell_type": "code",
   "execution_count": 2,
   "id": "a8f049e9",
   "metadata": {},
   "outputs": [],
   "source": [
    "class carsimulation:\n",
    "    def __init__(self,brand,model,color,year,speed):\n",
    "        self.brand = brand\n",
    "        self.model = model\n",
    "        self.color = color\n",
    "        self.year = year\n",
    "        self.speed = speed\n",
    "    def start(self):\n",
    "        print(f'{self.brand} {self.model} has started' )\n",
    "    def changegear(self):\n",
    "        gearoption = input('choose Gear option:')\n",
    "        if gearoption =='1':\n",
    "            print('Gear placed on 1')\n",
    "        elif gearoption =='2':\n",
    "            print('Gear placed on 2')\n",
    "        elif gearoption =='3':\n",
    "            print('Gear placed on 3')\n",
    "        elif gearoption =='4':\n",
    "            print('Gear placed on 4')\n",
    "        elif gearoption =='5':\n",
    "            print('Gear placed on 5')\n",
    "        elif gearoption =='R':\n",
    "            print('Gear placed on Reverse')\n",
    "    def accelerate(self,option):\n",
    "        if option == 1:\n",
    "            print('Nitrogen engaged')\n",
    "        if option == 2:\n",
    "            print('INVALID Nitrogen option')\n",
    "    def stop(self):\n",
    "        print(f'{self.brand} {self.model} has stopped, GAME OVER!!!' )\n",
    "\n",
    "car1 = carsimulation('Accura', 'MDX', 'White', 2008, 220)\n",
    "car2 = carsimulation('Ford', 'Edge', 'Red', 2010, 250)\n"
   ]
  },
  {
   "cell_type": "code",
   "execution_count": 3,
   "id": "9644834c",
   "metadata": {},
   "outputs": [
    {
     "name": "stdout",
     "output_type": "stream",
     "text": [
      "Accura MDX has started\n",
      "None\n"
     ]
    }
   ],
   "source": [
    "print(car1.start())"
   ]
  },
  {
   "cell_type": "code",
   "execution_count": 4,
   "id": "210c6cd8",
   "metadata": {},
   "outputs": [
    {
     "name": "stdout",
     "output_type": "stream",
     "text": [
      "Ford Edge has started\n",
      "None\n"
     ]
    }
   ],
   "source": [
    "print(car2.start())"
   ]
  },
  {
   "cell_type": "code",
   "execution_count": 5,
   "id": "7de8839c",
   "metadata": {},
   "outputs": [
    {
     "name": "stdout",
     "output_type": "stream",
     "text": [
      "Ford Edge has stopped, GAME OVER!!!\n",
      "None\n"
     ]
    }
   ],
   "source": [
    "print(car2.stop())"
   ]
  },
  {
   "cell_type": "code",
   "execution_count": 12,
   "id": "1c22bc08",
   "metadata": {},
   "outputs": [],
   "source": [
    "class carsimulation2(carsimulation):\n",
    "    def openroof(self,option):\n",
    "        if option == 1:\n",
    "            print('Roof opened')\n",
    "        elif option == 2:\n",
    "            print('Roof closed')\n",
    "        else:\n",
    "            print('Invalid roof option')\n",
    "car3 = carsimulation2('Ferrari', 'Hotbold', 'Blue', 2022,600)"
   ]
  },
  {
   "cell_type": "code",
   "execution_count": 13,
   "id": "e70da3fd",
   "metadata": {},
   "outputs": [
    {
     "name": "stdout",
     "output_type": "stream",
     "text": [
      " Ferrari Hotbold has started\n"
     ]
    }
   ],
   "source": [
    "car3.start()"
   ]
  },
  {
   "cell_type": "code",
   "execution_count": 14,
   "id": "fd42dd82",
   "metadata": {},
   "outputs": [
    {
     "ename": "AttributeError",
     "evalue": "'carsimulation' object has no attribute 'openroof'",
     "output_type": "error",
     "traceback": [
      "\u001b[1;31m---------------------------------------------------------------------------\u001b[0m",
      "\u001b[1;31mAttributeError\u001b[0m                            Traceback (most recent call last)",
      "Input \u001b[1;32mIn [14]\u001b[0m, in \u001b[0;36m<cell line: 1>\u001b[1;34m()\u001b[0m\n\u001b[1;32m----> 1\u001b[0m \u001b[43mcar2\u001b[49m\u001b[38;5;241;43m.\u001b[39;49m\u001b[43mopenroof\u001b[49m(\u001b[38;5;241m2\u001b[39m)\n",
      "\u001b[1;31mAttributeError\u001b[0m: 'carsimulation' object has no attribute 'openroof'"
     ]
    }
   ],
   "source": [
    "car2.openroof(2)"
   ]
  },
  {
   "cell_type": "code",
   "execution_count": 15,
   "id": "152cd14c",
   "metadata": {},
   "outputs": [
    {
     "ename": "SyntaxError",
     "evalue": "invalid syntax (3270674212.py, line 1)",
     "output_type": "error",
     "traceback": [
      "\u001b[1;36m  Input \u001b[1;32mIn [15]\u001b[1;36m\u001b[0m\n\u001b[1;33m    The reason for the error is because the value (openroof) is not available in carsimulation2\u001b[0m\n\u001b[1;37m        ^\u001b[0m\n\u001b[1;31mSyntaxError\u001b[0m\u001b[1;31m:\u001b[0m invalid syntax\n"
     ]
    }
   ],
   "source": [
    "The reason for the error is because the value (openroof) is not available in carsimulation2"
   ]
  },
  {
   "cell_type": "code",
   "execution_count": 22,
   "id": "7ab68b0f",
   "metadata": {},
   "outputs": [
    {
     "name": "stdout",
     "output_type": "stream",
     "text": [
      "LIST OPERATIONS\n",
      "accept\n",
      "display\\pricechecker\n",
      "bmi\n",
      "Enter y as yes to perform operation and n as no to terminate operationy\n",
      "Enter operation option:1\n",
      "Enter y as yes to perform operation and n as no to terminate operationy\n",
      "Enter operation option:accept\n",
      "customer Namer\n",
      "customer Genderr\n",
      "customer Age6\n",
      "customer weight70\n",
      "customer height1.78\n",
      "customer countryf\n",
      "customer continentAfrica\n",
      "Enter y as yes to perform operation and n as no to terminate operationy\n",
      "Enter operation option:display\n",
      "NAME: r\n",
      "GENDER: r\n",
      "AGE: 6\n",
      "WEIGHT: 70.0\n",
      "HEIGHT: 1.78\n",
      "COUNTRY: f\n",
      "CONTINENT: Africa\n",
      "        \n",
      "        \n",
      "Enter y as yes to perform operation and n as no to terminate operationy\n",
      "Enter operation option:bmi\n",
      "please provide your weight in kg:78\n",
      "please provide your height in meters1.78\n",
      "print your BMI is normal continue with your diet\n",
      "Enter y as yes to perform operation and n as no to terminate operationn\n"
     ]
    }
   ],
   "source": [
    "class BODYMASSINDEXCHECKER:\n",
    "    def __init__(self,name,gender,age,weight,height,country,continent):\n",
    "        self.name = name\n",
    "        self.gender = gender\n",
    "        self.age = age\n",
    "        self.weight = weight\n",
    "        self.height = height\n",
    "        self.country = country\n",
    "        self.continent = continent\n",
    "    def accept(self,NAME,GENDER,AGE,WEIGHT,HEIGHT,COUNTRY,CONTINENT):\n",
    "        ob = BODYMASSINDEXCHECKER(NAME,GENDER,AGE,WEIGHT,HEIGHT,COUNTRY,CONTINENT)\n",
    "        customerlist.append(ob)\n",
    "    def display(self,ob):\n",
    "        print(f'''NAME: {ob.name}\n",
    "GENDER: {ob.gender}\n",
    "AGE: {ob.age}\n",
    "WEIGHT: {ob.weight}\n",
    "HEIGHT: {ob.height}\n",
    "COUNTRY: {ob.country}\n",
    "CONTINENT: {ob.continent}\n",
    "        \n",
    "        ''')\n",
    "    def pricechecker(self):\n",
    "                option = input('please provide your continent once again:')\n",
    "                if option == 'Africa':\n",
    "                    print('your charges is $70')\n",
    "                elif option == 'Asia':\n",
    "                    print('your chareges is $60')\n",
    "                elif option == 'Europe':\n",
    "                    print('your charges is $50')\n",
    "                elif option == 'America':\n",
    "                    print('your charges is $60')\n",
    "                elif option == 'North America':\n",
    "                    print('your charges is $55')\n",
    "    def bmi(self):\n",
    "        weight = float(input('please provide your weight in kg:'))\n",
    "        height = float(input('please provide your height in meters'))\n",
    "        BMI = (weight/(height**2))\n",
    "        if BMI <18.5:\n",
    "            print('you are underweight kindly see a doctor immediately')\n",
    "        elif BMI >=18.5 and BMI <24.99:\n",
    "            print('print your BMI is normal continue with your diet')\n",
    "        elif BMI >=25 and BMI <=29.99:\n",
    "            print('you are overweight see the doctor for neccessary measures')\n",
    "        else:\n",
    "            print('you are obess kindly see the doctor immediately')\n",
    "customerlist = []\n",
    "obj = BODYMASSINDEXCHECKER('', '',0,0,0,'','')\n",
    "print('LIST OPERATIONS\\naccept\\ndisplay\\pricechecker\\nbmi')\n",
    "operation = input('Enter y as yes to perform operation and n as no to terminate operation')\n",
    "counter = 1\n",
    "while operation == 'y':\n",
    "    option = input('Enter operation option:')\n",
    "    if option == 'accept':\n",
    "        obj.accept(input('customer Name'), input('customer Gender'),\\\n",
    "                   int(input('customer Age')), float(input('customer weight')),\\\n",
    "                   float(input('customer height')), input('customer country'), input('customer continent'))\n",
    "    elif option == 'display':\n",
    "        for i in range(len(customerlist)):\n",
    "            obj.display(customerlist[i])\n",
    "    elif option == 'pricechecker':\n",
    "        obj.pricechecker()\n",
    "    elif option == 'bmi':\n",
    "        obj.bmi()\n",
    "    operation = input('Enter y as yes to perform operation and n as no to terminate operation')\n",
    "    counter = counter+1\n",
    "            \n",
    "        \n",
    "                \n",
    "                \n",
    "            "
   ]
  },
  {
   "cell_type": "markdown",
   "id": "4085949c",
   "metadata": {},
   "source": [
    "# USING CLASS AND OBJECT CREATE A BIKE SIMULATION GAME WITH THE FOLLOWING ATTRIBUTE (BRAND,MODEL,COLOR,YEAR,SPEED) AND THE FOLLOWING METHOD (START,CHANGEGEAR,ACCELERATE,STOP)"
   ]
  },
  {
   "cell_type": "code",
   "execution_count": 1,
   "id": "0c117d5d",
   "metadata": {},
   "outputs": [
    {
     "data": {
      "text/plain": [
       "'dark'"
      ]
     },
     "execution_count": 1,
     "metadata": {},
     "output_type": "execute_result"
    }
   ],
   "source": [
    "class human:\n",
    "    attr1 = 'male'\n",
    "    attr2 = 'dark'\n",
    "obj = human()\n",
    "obj.attr2\n",
    "\n",
    "    "
   ]
  },
  {
   "cell_type": "code",
   "execution_count": 2,
   "id": "a1aae570",
   "metadata": {},
   "outputs": [
    {
     "data": {
      "text/plain": [
       "'male'"
      ]
     },
     "execution_count": 2,
     "metadata": {},
     "output_type": "execute_result"
    }
   ],
   "source": [
    "obj.attr1"
   ]
  },
  {
   "cell_type": "code",
   "execution_count": null,
   "id": "3aa0073f",
   "metadata": {},
   "outputs": [],
   "source": []
  }
 ],
 "metadata": {
  "kernelspec": {
   "display_name": "Python 3 (ipykernel)",
   "language": "python",
   "name": "python3"
  },
  "language_info": {
   "codemirror_mode": {
    "name": "ipython",
    "version": 3
   },
   "file_extension": ".py",
   "mimetype": "text/x-python",
   "name": "python",
   "nbconvert_exporter": "python",
   "pygments_lexer": "ipython3",
   "version": "3.9.12"
  }
 },
 "nbformat": 4,
 "nbformat_minor": 5
}
