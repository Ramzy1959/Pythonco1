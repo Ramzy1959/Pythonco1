{
 "cells": [
  {
   "cell_type": "code",
   "execution_count": 1,
   "id": "91d8f7d1",
   "metadata": {},
   "outputs": [],
   "source": [
    "import pymysql"
   ]
  },
  {
   "cell_type": "code",
   "execution_count": 3,
   "id": "d711bb5a",
   "metadata": {},
   "outputs": [],
   "source": [
    "mydb = pymysql.connect(\n",
    "    host = 'localhost',\n",
    "    user = 'root',\n",
    "    password= 'Buchimzeal@$boss'\n",
    "     \n",
    ")\n",
    "mycursor = mydb.cursor()"
   ]
  },
  {
   "cell_type": "code",
   "execution_count": 5,
   "id": "27c630fe",
   "metadata": {},
   "outputs": [
    {
     "name": "stdout",
     "output_type": "stream",
     "text": [
      "('information_schema',)\n",
      "('mysql',)\n",
      "('nbamanagementsystem',)\n",
      "('performance_schema',)\n",
      "('sakila',)\n",
      "('sys',)\n",
      "('world',)\n"
     ]
    }
   ],
   "source": [
    "mycursor.execute('show databases')\n",
    "for x in mycursor:\n",
    "    print(x)"
   ]
  },
  {
   "cell_type": "code",
   "execution_count": 7,
   "id": "a228a964",
   "metadata": {},
   "outputs": [],
   "source": [
    "mydb = pymysql.connect(\n",
    "    host = 'localhost',\n",
    "    user = 'root',\n",
    "    password= 'Buchimzeal@$boss',\n",
    "    database = 'nbamanagementsystem'\n",
    "     \n",
    ")\n",
    "mycursor = mydb.cursor()"
   ]
  },
  {
   "cell_type": "code",
   "execution_count": 13,
   "id": "800f7311",
   "metadata": {},
   "outputs": [],
   "source": [
    "sql = \"insert into nbaplayersdetails(playerid,playername,playerposition) values (%s,%s,%s)\"\n",
    "val = [(8,'michael best', 'Attacker'),\n",
    "(9,'Gardner Bole', 'Defender'),\n",
    "(10,'Lewis rice', 'Stopper'),\n",
    "(11,'Rat cook', 'Attacker'),\n",
    "(12,'John ironman', 'Stopper'),\n",
    "(13,'Alfrey base', 'Defender' ),\n",
    "(14,'Pope Gardner', 'Midfielder'),\n",
    "(15,'Brown jolly', 'Attacker')]\n",
    "mycursor.executemany(sql,val)\n",
    "mydb.commit()\n"
   ]
  },
  {
   "cell_type": "code",
   "execution_count": 14,
   "id": "ffa3286f",
   "metadata": {},
   "outputs": [
    {
     "name": "stdout",
     "output_type": "stream",
     "text": [
      "(1, 'michael jordan', 'Attacker')\n",
      "(2, 'Harry Bole', 'Defender')\n",
      "(3, 'Lewis John', 'Stopper')\n",
      "(4, 'Rat Hollwell', 'Attacker')\n",
      "(5, 'John Batting', 'Stopper')\n",
      "(6, 'Alfrey James', 'Hope')\n",
      "(7, 'James Gardner', 'Midfielder')\n",
      "(8, 'michael best', 'Attacker')\n",
      "(9, 'Gardner Bole', 'Defender')\n",
      "(10, 'Lewis rice', 'Stopper')\n",
      "(11, 'Rat cook', 'Attacker')\n",
      "(12, 'John ironman', 'Stopper')\n",
      "(13, 'Alfrey base', 'Defender')\n",
      "(14, 'Pope Gardner', 'Midfielder')\n",
      "(15, 'Brown jolly', 'Attacker')\n"
     ]
    }
   ],
   "source": [
    "mycursor.execute(\"select * from nbaplayersdetails\")\n",
    "for x in mycursor:\n",
    "    print(x)"
   ]
  },
  {
   "cell_type": "code",
   "execution_count": null,
   "id": "ae35b6ce",
   "metadata": {},
   "outputs": [],
   "source": []
  }
 ],
 "metadata": {
  "kernelspec": {
   "display_name": "Python 3 (ipykernel)",
   "language": "python",
   "name": "python3"
  },
  "language_info": {
   "codemirror_mode": {
    "name": "ipython",
    "version": 3
   },
   "file_extension": ".py",
   "mimetype": "text/x-python",
   "name": "python",
   "nbconvert_exporter": "python",
   "pygments_lexer": "ipython3",
   "version": "3.9.12"
  }
 },
 "nbformat": 4,
 "nbformat_minor": 5
}
