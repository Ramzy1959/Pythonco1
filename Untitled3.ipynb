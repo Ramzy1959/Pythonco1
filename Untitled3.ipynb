{
 "cells": [
  {
   "cell_type": "code",
   "execution_count": 12,
   "id": "4d48dd6a",
   "metadata": {},
   "outputs": [],
   "source": [
    "class bikesimulation:\n",
    "    def __init__(self,brand,model,color,year,speed):\n",
    "        self.brand = brand\n",
    "        self.model = model\n",
    "        self.color = color\n",
    "        self.year = year\n",
    "        self.speed = speed\n",
    "    def start(self):\n",
    "        print(f'{self.brand} {self.model} has started' )\n",
    "    def changegear(self):\n",
    "        gearoption = input('choose Gear option:')\n",
    "        if gearoption =='1':\n",
    "            print('Gear placed on 1')\n",
    "        elif gearoption =='2':\n",
    "            print('Gear placed on 2')\n",
    "        elif gearoption =='3':\n",
    "            print('Gear placed on 3')\n",
    "        elif gearoption =='4':\n",
    "            print('Gear placed on 4')\n",
    "        elif gearoption =='5':\n",
    "            print('Gear placed on 5')\n",
    "        elif gearoption =='R':\n",
    "            print('Gear placed on Reverse')\n",
    "    def accelerate(self,option):\n",
    "        if option == 1:\n",
    "            print('Nitrogen engaged')\n",
    "        if option == 2:\n",
    "            print('INVALID Nitrogen option')\n",
    "    def stop(self):\n",
    "        print(f'{self.brand} {self.model} has stopped, GAME OVER!!!' )\n",
    "\n",
    "bike1 = bikesimulation('Accura', 'MDX', 'White', 2008, 220)\n",
    "bike2 = bikesimulation('Ford', 'Edge', 'Red', 2010, 250)\n",
    "        "
   ]
  },
  {
   "cell_type": "code",
   "execution_count": 13,
   "id": "56d03501",
   "metadata": {},
   "outputs": [
    {
     "name": "stdout",
     "output_type": "stream",
     "text": [
      "Accura MDX has started\n",
      "None\n"
     ]
    }
   ],
   "source": [
    "print(bike1.start())"
   ]
  },
  {
   "cell_type": "code",
   "execution_count": 14,
   "id": "46e963c8",
   "metadata": {},
   "outputs": [
    {
     "name": "stdout",
     "output_type": "stream",
     "text": [
      "Ford Edge has started\n",
      "None\n"
     ]
    }
   ],
   "source": [
    "print(bike2.start())"
   ]
  },
  {
   "cell_type": "code",
   "execution_count": null,
   "id": "edc6c551",
   "metadata": {},
   "outputs": [],
   "source": []
  }
 ],
 "metadata": {
  "kernelspec": {
   "display_name": "Python 3 (ipykernel)",
   "language": "python",
   "name": "python3"
  },
  "language_info": {
   "codemirror_mode": {
    "name": "ipython",
    "version": 3
   },
   "file_extension": ".py",
   "mimetype": "text/x-python",
   "name": "python",
   "nbconvert_exporter": "python",
   "pygments_lexer": "ipython3",
   "version": "3.9.12"
  }
 },
 "nbformat": 4,
 "nbformat_minor": 5
}
