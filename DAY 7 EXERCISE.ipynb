{
 "cells": [
  {
   "cell_type": "code",
   "execution_count": 2,
   "id": "5e379f33",
   "metadata": {},
   "outputs": [
    {
     "name": "stdout",
     "output_type": "stream",
     "text": [
      "Input your password:Bu9@#$\n",
      "Valid password\n"
     ]
    }
   ],
   "source": [
    "import re\n",
    "password = input('Input your password:')\n",
    "x = True\n",
    "while x:\n",
    "    if(len(password) <6 or len(password)>14):\n",
    "        break\n",
    "    elif not re.search('[a-z]', password):\n",
    "        break\n",
    "    elif not re.search('[A-Z]', password):\n",
    "        break\n",
    "    elif not re.search('[0-9]', password):\n",
    "        break\n",
    "    elif not re.search('[$#@]', password):\n",
    "        break\n",
    "    elif re.search('\\s', password):\n",
    "        break\n",
    "    else:\n",
    "        print('Valid password')\n",
    "        x=False\n",
    "        break\n",
    "if x:\n",
    "    print('Not a Valid password')"
   ]
  },
  {
   "cell_type": "code",
   "execution_count": 7,
   "id": "58f61b24",
   "metadata": {},
   "outputs": [
    {
     "name": "stdout",
     "output_type": "stream",
     "text": [
      "[9.219544457292887, 7.615773105863909, 9.797958971132712, 7.3484692283495345, 9.327379053088816, 9.433981132056603, 4.47213595499958, 5.0, 8.306623862918075, 9.327379053088816, 9.433981132056603, 7.211102550927978, 6.0, 6.708203932499369, 6.928203230275509]\n"
     ]
    }
   ],
   "source": [
    "import math\n",
    "numbers = (85,58,96,54,87,89,20,25,69,87,89,52,36,45,48)\n",
    "updatenumbers = list(map(lambda x: math.sqrt(x), numbers ))\n",
    "print(updatenumbers)"
   ]
  },
  {
   "cell_type": "code",
   "execution_count": 10,
   "id": "ca5bb46d",
   "metadata": {},
   "outputs": [
    {
     "ename": "SyntaxError",
     "evalue": "invalid syntax (3229381473.py, line 1)",
     "output_type": "error",
     "traceback": [
      "\u001b[1;36m  Input \u001b[1;32mIn [10]\u001b[1;36m\u001b[0m\n\u001b[1;33m    def averagescore(*numbers)\u001b[0m\n\u001b[1;37m                              ^\u001b[0m\n\u001b[1;31mSyntaxError\u001b[0m\u001b[1;31m:\u001b[0m invalid syntax\n"
     ]
    }
   ],
   "source": [
    "def averagescore(*numbers)\n",
    "numbers = (85,58,96,54,87,89,20,25,69,87,89,52,36,45,48)\n",
    "print(type(numbers))\n",
    "import statistics as stat\n",
    "print(f'the average score of the following numbers {numbers} is {stat.mean(numbers)}')"
   ]
  },
  {
   "cell_type": "code",
   "execution_count": null,
   "id": "30bd1751",
   "metadata": {},
   "outputs": [],
   "source": []
  }
 ],
 "metadata": {
  "kernelspec": {
   "display_name": "Python 3 (ipykernel)",
   "language": "python",
   "name": "python3"
  },
  "language_info": {
   "codemirror_mode": {
    "name": "ipython",
    "version": 3
   },
   "file_extension": ".py",
   "mimetype": "text/x-python",
   "name": "python",
   "nbconvert_exporter": "python",
   "pygments_lexer": "ipython3",
   "version": "3.9.12"
  }
 },
 "nbformat": 4,
 "nbformat_minor": 5
}
