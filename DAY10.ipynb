{
 "cells": [
  {
   "cell_type": "markdown",
   "id": "2b76959f",
   "metadata": {},
   "source": [
    "# EXERCISE\n",
    "\n",
    "# 1.Create a dictionary (in your file) of names and birthdays. When you run your program it should ask the user to enter a name, and return the birthday of that person back to them"
   ]
  },
  {
   "cell_type": "code",
   "execution_count": 37,
   "id": "d2446b7f",
   "metadata": {},
   "outputs": [
    {
     "name": "stdout",
     "output_type": "stream",
     "text": [
      "please provide name to check your friends date of birth:Ade julius\n",
      "friends birthday is 20/08/1989\n"
     ]
    }
   ],
   "source": [
    "birthdaylist = {\n",
    "    'Ade julius': '20/08/1989',\n",
    "    'Onye jike': '06/09/1991',\n",
    "    'ABuchi': '04/09/1997',\n",
    "    'ikenga': '08/08/2000',\n",
    "    'Ewelachi akochi': '02/04/1998'\n",
    "}\n",
    "name = input('please provide name to check your friends date of birth:')\n",
    "for key in birthdaylist:\n",
    "    if key == name:\n",
    "        print(f'friends birthday is {birthdaylist[name]}')\n",
    "        break\n",
    "    else:\n",
    "        print('name not found')\n",
    "        "
   ]
  },
  {
   "cell_type": "markdown",
   "id": "3dd5d848",
   "metadata": {},
   "source": [
    "# 2. WRITE A PROGRAM TO PRINT MULTIPLICATION TABLE OF A GIVEN NUMBER\n",
    "\n",
    " "
   ]
  },
  {
   "cell_type": "code",
   "execution_count": 23,
   "id": "3fb95f62",
   "metadata": {},
   "outputs": [
    {
     "name": "stdout",
     "output_type": "stream",
     "text": [
      "Provide a number:35\n",
      "35 x 1 = 35\n",
      "35 x 2 = 70\n",
      "35 x 3 = 105\n",
      "35 x 4 = 140\n",
      "35 x 5 = 175\n",
      "35 x 6 = 210\n",
      "35 x 7 = 245\n",
      "35 x 8 = 280\n",
      "35 x 9 = 315\n",
      "35 x 10 = 350\n",
      "35 x 11 = 385\n",
      "35 x 12 = 420\n"
     ]
    }
   ],
   "source": [
    "number = int(input('Provide a number:'))\n",
    "for i in range(1,13):\n",
    "    print(f'{number} x {i} = {number * i}')"
   ]
  },
  {
   "cell_type": "code",
   "execution_count": 24,
   "id": "83a87fe1",
   "metadata": {},
   "outputs": [
    {
     "name": "stdout",
     "output_type": "stream",
     "text": [
      "['MAXYEAR', 'MINYEAR', '__all__', '__builtins__', '__cached__', '__doc__', '__file__', '__loader__', '__name__', '__package__', '__spec__', 'date', 'datetime', 'datetime_CAPI', 'sys', 'time', 'timedelta', 'timezone', 'tzinfo']\n"
     ]
    }
   ],
   "source": [
    "import datetime\n",
    "print(dir(datetime))"
   ]
  },
  {
   "cell_type": "code",
   "execution_count": 25,
   "id": "f3d06bf1",
   "metadata": {},
   "outputs": [
    {
     "name": "stdout",
     "output_type": "stream",
     "text": [
      "2022-12-03\n"
     ]
    }
   ],
   "source": [
    "date1 = datetime.date(2022,12,3)\n",
    "\n",
    "print(date1)"
   ]
  },
  {
   "cell_type": "code",
   "execution_count": 26,
   "id": "c4247325",
   "metadata": {},
   "outputs": [
    {
     "data": {
      "text/plain": [
       "datetime.date"
      ]
     },
     "execution_count": 26,
     "metadata": {},
     "output_type": "execute_result"
    }
   ],
   "source": [
    "type(date1)"
   ]
  },
  {
   "cell_type": "code",
   "execution_count": 27,
   "id": "61278277",
   "metadata": {},
   "outputs": [
    {
     "name": "stdout",
     "output_type": "stream",
     "text": [
      "2022\n",
      "12\n",
      "3\n",
      "5\n",
      "6\n"
     ]
    }
   ],
   "source": [
    "print(date1.year)\n",
    "print(date1.month)\n",
    "print(date1.day)\n",
    "print(date1.weekday())\n",
    "print(date1.isoweekday())"
   ]
  },
  {
   "cell_type": "code",
   "execution_count": 28,
   "id": "0608ac49",
   "metadata": {},
   "outputs": [
    {
     "name": "stdout",
     "output_type": "stream",
     "text": [
      "2022-12-05\n"
     ]
    }
   ],
   "source": [
    "currentdate = datetime.date.today()\n",
    "print(currentdate)"
   ]
  },
  {
   "cell_type": "markdown",
   "id": "13b9a596",
   "metadata": {},
   "source": [
    "# strftime: This is used for the modification of date and time"
   ]
  },
  {
   "cell_type": "code",
   "execution_count": 29,
   "id": "de2d5cb9",
   "metadata": {},
   "outputs": [
    {
     "data": {
      "text/plain": [
       "'05 December, 2022'"
      ]
     },
     "execution_count": 29,
     "metadata": {},
     "output_type": "execute_result"
    }
   ],
   "source": [
    "currentdate.strftime('%d %B, %Y')"
   ]
  },
  {
   "cell_type": "code",
   "execution_count": 30,
   "id": "4311b9a4",
   "metadata": {},
   "outputs": [
    {
     "name": "stdout",
     "output_type": "stream",
     "text": [
      "18:30:13.346588\n"
     ]
    }
   ],
   "source": [
    "currenttime = datetime.datetime.now().time()\n",
    "print(currenttime)"
   ]
  },
  {
   "cell_type": "code",
   "execution_count": 45,
   "id": "966977c4",
   "metadata": {},
   "outputs": [
    {
     "data": {
      "text/plain": [
       "'06:30 : PM'"
      ]
     },
     "execution_count": 45,
     "metadata": {},
     "output_type": "execute_result"
    }
   ],
   "source": [
    "currenttime.strftime('%I:%M : %p')"
   ]
  },
  {
   "cell_type": "code",
   "execution_count": 32,
   "id": "ad357fac",
   "metadata": {},
   "outputs": [
    {
     "data": {
      "text/plain": [
       "'Mon Dec  5 18:31:09 2022'"
      ]
     },
     "execution_count": 32,
     "metadata": {},
     "output_type": "execute_result"
    }
   ],
   "source": [
    "curent_date_time = datetime.datetime.now()\n",
    "\n",
    "curent_date_time.strftime('%c')"
   ]
  },
  {
   "cell_type": "markdown",
   "id": "32c16983",
   "metadata": {},
   "source": [
    "# strptime: This is used to convert an input date to datetime format"
   ]
  },
  {
   "cell_type": "code",
   "execution_count": 33,
   "id": "6e14d49a",
   "metadata": {},
   "outputs": [
    {
     "name": "stdout",
     "output_type": "stream",
     "text": [
      "Enter your date in this format (mm/dd/yy)05/03/2022\n",
      "2022-05-03\n"
     ]
    }
   ],
   "source": [
    "date2 = input('Enter your date in this format (mm/dd/yy)')\n",
    "condate = datetime.datetime.strptime(date2,'%m/%d/%Y').date()\n",
    "print(condate)"
   ]
  },
  {
   "cell_type": "code",
   "execution_count": 34,
   "id": "8025d2c2",
   "metadata": {},
   "outputs": [
    {
     "data": {
      "text/plain": [
       "datetime.datetime(2022, 12, 6, 0, 4, 29, 306822)"
      ]
     },
     "execution_count": 34,
     "metadata": {},
     "output_type": "execute_result"
    }
   ],
   "source": [
    "currentdate - date1\n",
    "\n",
    "curent_date_time + datetime.timedelta(seconds = 20000)"
   ]
  },
  {
   "cell_type": "markdown",
   "id": "10cacab1",
   "metadata": {},
   "source": [
    "# ask  a user for his or her name and appointment date and calculate \\n \n",
    "# how many weeks and days until his or her given appointment date \\n"
   ]
  },
  {
   "cell_type": "code",
   "execution_count": 36,
   "id": "67de6496",
   "metadata": {},
   "outputs": [
    {
     "name": "stdout",
     "output_type": "stream",
     "text": [
      "Enter your name: Ade\n",
      "Enter your date in this format (dd/mm/yy):20/03/2023\n",
      "Dear Ade, you have 15 weeks and 0 days until your appointment\n"
     ]
    }
   ],
   "source": [
    "name = input('Enter your name: ')\n",
    "strappdate = input('Enter your date in this format (dd/mm/yy):')\n",
    "appdate = datetime.datetime.strptime(strappdate, '%d/%m/%Y').date()\n",
    "currentdate = datetime.date.today()\n",
    "diff = appdate - currentdate\n",
    "trnweeks = diff.days // 7\n",
    "trndays = diff.days % 7\n",
    "print(f'Dear {name}, you have {trnweeks} weeks and {trndays} days until your appointment')"
   ]
  },
  {
   "cell_type": "code",
   "execution_count": 41,
   "id": "af74242e",
   "metadata": {},
   "outputs": [
    {
     "name": "stdout",
     "output_type": "stream",
     "text": [
      "Variable x is not defined\n"
     ]
    }
   ],
   "source": [
    "try:\n",
    "    print(x)\n",
    "except NameError:\n",
    "    print('Variable x is not defined')\n",
    "except:\n",
    "    print('spmething else went wrong')"
   ]
  },
  {
   "cell_type": "markdown",
   "id": "49b3f81a",
   "metadata": {},
   "source": [
    "# write a program to find out the birthday of four friends."
   ]
  },
  {
   "cell_type": "code",
   "execution_count": 49,
   "id": "d0a84fdd",
   "metadata": {},
   "outputs": [
    {
     "name": "stdout",
     "output_type": "stream",
     "text": [
      "please provide name to check your friends date of birth:anabel\n",
      "your friends birthday is 05/07/1995\n"
     ]
    }
   ],
   "source": [
    "birthdayrecords = {\n",
    "    'july': '02/05/1990',\n",
    "    'anabel': '05/07/1995',\n",
    "    'Onochie': '03/06/2000',\n",
    "    'chuka': '04/03/1989'\n",
    "}\n",
    "name = input('please provide name to check your friends date of birth:')\n",
    "for key in birthdayrecords:\n",
    "    if key == name:\n",
    "        print(f'your friends birthday is {birthdayrecords[name]}')\n",
    "        break\n",
    "else:\n",
    "    print('name not found')\n",
    "        \n",
    "    "
   ]
  },
  {
   "cell_type": "code",
   "execution_count": null,
   "id": "8d3ab894",
   "metadata": {},
   "outputs": [],
   "source": []
  }
 ],
 "metadata": {
  "kernelspec": {
   "display_name": "Python 3 (ipykernel)",
   "language": "python",
   "name": "python3"
  },
  "language_info": {
   "codemirror_mode": {
    "name": "ipython",
    "version": 3
   },
   "file_extension": ".py",
   "mimetype": "text/x-python",
   "name": "python",
   "nbconvert_exporter": "python",
   "pygments_lexer": "ipython3",
   "version": "3.9.12"
  }
 },
 "nbformat": 4,
 "nbformat_minor": 5
}
