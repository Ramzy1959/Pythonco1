{
 "cells": [
  {
   "cell_type": "markdown",
   "id": "5a91b1b3",
   "metadata": {},
   "source": [
    "# 1. WRITE A PYTHON PROGRAM TO FIND THOSE NUMBERS WHICH ARE DIVISIBLE  BY 7 AND 5 BETWEEN 1500 AND 2700 (BOTH INCLUDED)"
   ]
  },
  {
   "cell_type": "code",
   "execution_count": 24,
   "id": "82914764",
   "metadata": {},
   "outputs": [
    {
     "name": "stdout",
     "output_type": "stream",
     "text": [
      "1505,1540,1575,1610,1645,1680,1715,1750,1785,1820,1855,1890,1925,1960,1995,2030,2065,2100,2135,2170,2205,2240,2275,2310,2345,2380,2415,2450,2485,2520,2555,2590,2625,2660,2695\n"
     ]
    }
   ],
   "source": [
    "# number 1\n",
    "output = []\n",
    "for x in range(1500, 2700):\n",
    "    if(x % 7 ==0) and (x %5 ==0):\n",
    "        output.append(str(x))\n",
    "print(','.join(output))"
   ]
  },
  {
   "cell_type": "markdown",
   "id": "272464a0",
   "metadata": {},
   "source": [
    "# 2. WRITE A PYTHON PROGRAM TO  COUNT THE NUMBER OF EVEN AND ODD NUMBER IN THE GIVEN SERIES (1,2,8,9,6,4,7,8,10,11,12,15,14,18)"
   ]
  },
  {
   "cell_type": "code",
   "execution_count": 2,
   "id": "98aefae1",
   "metadata": {},
   "outputs": [
    {
     "name": "stdout",
     "output_type": "stream",
     "text": [
      "Numbers of even numbers : 9\n",
      "Numbers of odd numbers: 5\n"
     ]
    }
   ],
   "source": [
    "# number 2\n",
    "numbers = (1,2,8,9,6,4,7,8,10,11,12,15,14,18)\n",
    "countodd = 0\n",
    "counteven = 0\n",
    "for x in numbers:\n",
    "    if not x % 2:\n",
    "        counteven += 1\n",
    "    else:\n",
    "        countodd += 1\n",
    "print('Numbers of even numbers :', counteven)\n",
    "print('Numbers of odd numbers:', countodd)\n"
   ]
  },
  {
   "cell_type": "markdown",
   "id": "53773bf4",
   "metadata": {},
   "source": [
    "# 3. WRITE  A PYTHON PROGRAM THAT ACCEPT  A STRING AND CALCULATE THE NUMBER OF DIGIT AND LETTER"
   ]
  },
  {
   "cell_type": "code",
   "execution_count": 4,
   "id": "ace36f6f",
   "metadata": {},
   "outputs": [
    {
     "name": "stdout",
     "output_type": "stream",
     "text": [
      "INPUT A STRING:buchi8875538\n",
      "letters : 5\n",
      "Digits : 7\n"
     ]
    }
   ],
   "source": [
    "# number 3\n",
    "string = input('INPUT A STRING:')\n",
    "digit = 0\n",
    "letter = 0\n",
    "for x in string:\n",
    "    if x.isdigit():\n",
    "        digit +=1\n",
    "    elif x.isalpha():\n",
    "        letter +=1\n",
    "    else:\n",
    "        pass\n",
    "print('letters :', letter)\n",
    "print('Digits :', digit)"
   ]
  },
  {
   "cell_type": "markdown",
   "id": "5cc6e217",
   "metadata": {},
   "source": [
    "# 4. WRITE A PYTHON PROGRAM TO CHECK THE VALIDITY OF A PASSWORD BASED ON THE FOLLOWING REQUIMENT I.ATLEASET A UPPER AND A LOWER CASE LETTER II. A DIGIT, III.ANY OF THIS CHARACTER[$@#] IV. MINIMUM LENGHT OF 8 V. MAXIMUM LENGHT OF 16"
   ]
  },
  {
   "cell_type": "code",
   "execution_count": 14,
   "id": "15e68fc8",
   "metadata": {},
   "outputs": [
    {
     "name": "stdout",
     "output_type": "stream",
     "text": [
      "Input your password:aBuchim8#\n",
      "valid password\n"
     ]
    }
   ],
   "source": [
    "# number 4\n",
    "import re\n",
    "password = input('Input your password:')\n",
    "x = True\n",
    "while x:\n",
    "    if(len(password) <8 or len(password)>16):\n",
    "        break\n",
    "    elif not re.search('[a-z]', password):\n",
    "        break\n",
    "    elif not re.search('[A-Z]', password):\n",
    "        break\n",
    "    elif not re.search('[0-9]', password):\n",
    "        break\n",
    "    elif not re.search('[$#@]', password):\n",
    "        break\n",
    "    elif re.search('\\s', password):\n",
    "        break\n",
    "    else:\n",
    "        print('valid password')\n",
    "        x=False\n",
    "        break\n",
    "if x:\n",
    "    print('Not a valid password')\n",
    "    "
   ]
  },
  {
   "cell_type": "markdown",
   "id": "fc9c20e3",
   "metadata": {},
   "source": [
    "# Anonymous function known as Lamda function"
   ]
  },
  {
   "cell_type": "code",
   "execution_count": 16,
   "id": "16fc4a22",
   "metadata": {},
   "outputs": [
    {
     "data": {
      "text/plain": [
       "102"
      ]
     },
     "execution_count": 16,
     "metadata": {},
     "output_type": "execute_result"
    }
   ],
   "source": [
    "(lambda x,y,z: x +y +z)(45,45,12)"
   ]
  },
  {
   "cell_type": "code",
   "execution_count": 17,
   "id": "28dc2e73",
   "metadata": {},
   "outputs": [
    {
     "name": "stdout",
     "output_type": "stream",
     "text": [
      "provide your passwordseyilaw4567hy\n"
     ]
    },
    {
     "data": {
      "text/plain": [
       "'valid password'"
      ]
     },
     "execution_count": 17,
     "metadata": {},
     "output_type": "execute_result"
    }
   ],
   "source": [
    "(lambda userpassword: 'valid password' if len(userpassword) >= 8 else 'invalid password')(input('provide your password'))"
   ]
  },
  {
   "cell_type": "code",
   "execution_count": 18,
   "id": "41ba315d",
   "metadata": {},
   "outputs": [
    {
     "name": "stdout",
     "output_type": "stream",
     "text": [
      "['BINGO', 'BATTY', 'ROCKY', 'SPACKY']\n"
     ]
    }
   ],
   "source": [
    "dognames = ['bingo', 'batty', 'rocky', 'spacky']\n",
    "updatedognames = list(map(lambda x: x.upper(), dognames))\n",
    "print(updatedognames)"
   ]
  },
  {
   "cell_type": "code",
   "execution_count": 19,
   "id": "b15d25b8",
   "metadata": {},
   "outputs": [
    {
     "name": "stdout",
     "output_type": "stream",
     "text": [
      "[1.0, 1.4142135623730951, 2.8284271247461903, 3.0, 2.449489742783178, 2.0, 2.6457513110645907, 2.8284271247461903, 3.1622776601683795, 3.3166247903554, 3.4641016151377544, 3.872983346207417, 3.7416573867739413, 4.242640687119285]\n"
     ]
    }
   ],
   "source": [
    "import math\n",
    "unumbers = list(map(lambda x: math.sqrt(x), numbers))\n",
    "print(unumbers)"
   ]
  },
  {
   "cell_type": "code",
   "execution_count": 20,
   "id": "f136fd7f",
   "metadata": {},
   "outputs": [
    {
     "name": "stdout",
     "output_type": "stream",
     "text": [
      "[1, 9, 7, 11, 15]\n"
     ]
    }
   ],
   "source": [
    "odd = list(filter(lambda x: x % 2 == 1, numbers))\n",
    "print(odd)"
   ]
  },
  {
   "cell_type": "code",
   "execution_count": null,
   "id": "f355ed77",
   "metadata": {},
   "outputs": [],
   "source": []
  },
  {
   "cell_type": "markdown",
   "id": "4f5a2aed",
   "metadata": {},
   "source": [
    "# WRITE A PYTHON PROGRAM TO FIND THOSE NUMBERS WHICH ARE DIVISIBLE BY 3 AND 9 BETWEEN 2000 AND 3700 (BOTH INCLUDED)\n"
   ]
  },
  {
   "cell_type": "code",
   "execution_count": 31,
   "id": "070585ac",
   "metadata": {},
   "outputs": [
    {
     "name": "stdout",
     "output_type": "stream",
     "text": [
      "2007,2016,2025,2034,2043,2052,2061,2070,2079,2088,2097,2106,2115,2124,2133,2142,2151,2160,2169,2178,2187,2196,2205,2214,2223,2232,2241,2250,2259,2268,2277,2286,2295,2304,2313,2322,2331,2340,2349,2358,2367,2376,2385,2394,2403,2412,2421,2430,2439,2448,2457,2466,2475,2484,2493,2502,2511,2520,2529,2538,2547,2556,2565,2574,2583,2592,2601,2610,2619,2628,2637,2646,2655,2664,2673,2682,2691,2700,2709,2718,2727,2736,2745,2754,2763,2772,2781,2790,2799,2808,2817,2826,2835,2844,2853,2862,2871,2880,2889,2898,2907,2916,2925,2934,2943,2952,2961,2970,2979,2988,2997,3006,3015,3024,3033,3042,3051,3060,3069,3078,3087,3096,3105,3114,3123,3132,3141,3150,3159,3168,3177,3186,3195,3204,3213,3222,3231,3240,3249,3258,3267,3276,3285,3294,3303,3312,3321,3330,3339,3348,3357,3366,3375,3384,3393,3402,3411,3420,3429,3438,3447,3456,3465,3474,3483,3492,3501,3510,3519,3528,3537,3546,3555,3564,3573,3582,3591,3600,3609,3618,3627,3636,3645,3654,3663,3672,3681,3690,3699\n"
     ]
    }
   ],
   "source": [
    "output = []\n",
    "for x in range(2000, 3700):\n",
    "    if(x % 3 ==0) and (x % 9 ==0):\n",
    "        output.append(str(x))\n",
    "print(',' .join(output))"
   ]
  },
  {
   "cell_type": "code",
   "execution_count": 30,
   "id": "18fd969c",
   "metadata": {},
   "outputs": [
    {
     "name": "stdout",
     "output_type": "stream",
     "text": [
      "2007,2016,2025,2034,2043,2052,2061,2070,2079,2088,2097,2106,2115,2124,2133,2142,2151,2160,2169,2178,2187,2196,2205,2214,2223,2232,2241,2250,2259,2268,2277,2286,2295,2304,2313,2322,2331,2340,2349,2358,2367,2376,2385,2394,2403,2412,2421,2430,2439,2448,2457,2466,2475,2484,2493,2502,2511,2520,2529,2538,2547,2556,2565,2574,2583,2592,2601,2610,2619,2628,2637,2646,2655,2664,2673,2682,2691,2700,2709,2718,2727,2736,2745,2754,2763,2772,2781,2790,2799,2808,2817,2826,2835,2844,2853,2862,2871,2880,2889,2898,2907,2916,2925,2934,2943,2952,2961,2970,2979,2988,2997,3006,3015,3024,3033,3042,3051,3060,3069,3078,3087,3096,3105,3114,3123,3132,3141,3150,3159,3168,3177,3186,3195,3204,3213,3222,3231,3240,3249,3258,3267,3276,3285,3294,3303,3312,3321,3330,3339,3348,3357,3366,3375,3384,3393,3402,3411,3420,3429,3438,3447,3456,3465,3474,3483,3492,3501,3510,3519,3528,3537,3546,3555,3564,3573,3582,3591,3600,3609,3618,3627,3636,3645,3654,3663,3672,3681,3690,3699\n"
     ]
    }
   ],
   "source": [
    "\n",
    "      "
   ]
  },
  {
   "cell_type": "markdown",
   "id": "836199df",
   "metadata": {},
   "source": [
    "# WRITE A PYTHON PROGRAM TO CHECK THE VALIDITY OF A PASSWORD BASED ON THE FOLLOWING REQUIMENT I.ATLEASET A UPPER AND A LOWER CASE LETTER II. A DIGIT, III.ANY OF THIS CHARACTER[$@#] IV. MINIMUM LENGHT OF 6 V. MAXIMUM LENGHT OF 14"
   ]
  },
  {
   "cell_type": "code",
   "execution_count": null,
   "id": "f88b5f98",
   "metadata": {},
   "outputs": [],
   "source": [
    "import re\n",
    "password = input('Input your password:')\n",
    "x = True\n",
    "while x:\n",
    "    if(len(password) <6 or len(password)>14):\n",
    "        break\n",
    "    elif not re.search('[a-z]', password):\n",
    "        break\n",
    "    elif not re.search('[A-Z]', password):\n",
    "        break\n",
    "    elif not re.search('[0-9]', password):\n",
    "        break\n",
    "    elif not re.search('[$#@]', password):\n",
    "        break\n",
    "    elif re.search('\\s', password):\n",
    "        break\n",
    "    else:\n",
    "        print('valid password')\n",
    "        x=False\n",
    "        break\n",
    "if x:\n",
    "    print('Not a valid password')\n",
    "        \n",
    "    \n",
    "        "
   ]
  },
  {
   "cell_type": "code",
   "execution_count": null,
   "id": "bea25af9",
   "metadata": {},
   "outputs": [],
   "source": [
    "import re\n",
    "password = input('Input your password:')\n",
    "x = True\n",
    "while x:\n",
    "     if(len(password) <6 or len(password)>14):\n",
    "        break\n",
    "    elif not re.search('[a-z]', password):\n",
    "        break\n",
    "    elif not re.search('[A-Z]', password):\n",
    "        break\n",
    "    elif not re.search('[0-9]', password):\n",
    "        break\n",
    "    elif not re.search('[$#@]', password):\n",
    "        break\n",
    "    elif re.search('\\s', password):\n",
    "        break\n",
    "    else:\n",
    "        print('Valid password')\n",
    "        x=False\n",
    "        break\n",
    "if x:\n",
    "    print('Not a Valid password')\n",
    "    "
   ]
  },
  {
   "cell_type": "code",
   "execution_count": null,
   "id": "82bd848a",
   "metadata": {},
   "outputs": [],
   "source": [
    "import math\n",
    "numbers = (85,58,96,54,87,89,20,25,69,87,89,52,36,45,48)\n",
    "updatenumbers = list(map(lambda x: math.sqrt(x), numbers ))\n",
    "print(updatenumbers)\n"
   ]
  },
  {
   "cell_type": "code",
   "execution_count": null,
   "id": "8bb9f76e",
   "metadata": {},
   "outputs": [],
   "source": []
  }
 ],
 "metadata": {
  "kernelspec": {
   "display_name": "Python 3 (ipykernel)",
   "language": "python",
   "name": "python3"
  },
  "language_info": {
   "codemirror_mode": {
    "name": "ipython",
    "version": 3
   },
   "file_extension": ".py",
   "mimetype": "text/x-python",
   "name": "python",
   "nbconvert_exporter": "python",
   "pygments_lexer": "ipython3",
   "version": "3.9.12"
  }
 },
 "nbformat": 4,
 "nbformat_minor": 5
}
