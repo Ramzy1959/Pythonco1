{
 "cells": [
  {
   "cell_type": "markdown",
   "id": "1a285a34",
   "metadata": {},
   "source": [
    "# Display number 458 In float using print()"
   ]
  },
  {
   "cell_type": "code",
   "execution_count": 2,
   "id": "bbc1a02c",
   "metadata": {},
   "outputs": [
    {
     "name": "stdout",
     "output_type": "stream",
     "text": [
      "458.0\n"
     ]
    }
   ],
   "source": [
    "number = float(458)\n",
    "print(number)"
   ]
  },
  {
   "cell_type": "markdown",
   "id": "1e4591c6",
   "metadata": {},
   "source": [
    "# Write a program to take three names as input from a user "
   ]
  },
  {
   "cell_type": "code",
   "execution_count": 3,
   "id": "25ea90c0",
   "metadata": {},
   "outputs": [
    {
     "name": "stdout",
     "output_type": "stream",
     "text": [
      "please provide a name UCHENNA\n"
     ]
    }
   ],
   "source": [
    "name1 = input('please provide a name')\n"
   ]
  },
  {
   "cell_type": "code",
   "execution_count": 4,
   "id": "315993d8",
   "metadata": {},
   "outputs": [
    {
     "name": "stdout",
     "output_type": "stream",
     "text": [
      "please provide a name CHIOMA\n"
     ]
    }
   ],
   "source": [
    "name2 = input('please provide a name')"
   ]
  },
  {
   "cell_type": "code",
   "execution_count": 5,
   "id": "482b07de",
   "metadata": {},
   "outputs": [
    {
     "name": "stdout",
     "output_type": "stream",
     "text": [
      "please provide a name ICHIE\n"
     ]
    }
   ],
   "source": [
    "name3 = input('please provide a name')"
   ]
  },
  {
   "cell_type": "code",
   "execution_count": 6,
   "id": "332c7538",
   "metadata": {},
   "outputs": [
    {
     "name": "stdout",
     "output_type": "stream",
     "text": [
      " UCHENNA\n"
     ]
    }
   ],
   "source": [
    "print(name1)"
   ]
  },
  {
   "cell_type": "code",
   "execution_count": 7,
   "id": "1ae261d9",
   "metadata": {},
   "outputs": [
    {
     "name": "stdout",
     "output_type": "stream",
     "text": [
      " CHIOMA\n"
     ]
    }
   ],
   "source": [
    "print(name2)"
   ]
  },
  {
   "cell_type": "code",
   "execution_count": 8,
   "id": "9a20124b",
   "metadata": {},
   "outputs": [
    {
     "name": "stdout",
     "output_type": "stream",
     "text": [
      " ICHIE\n"
     ]
    }
   ],
   "source": [
    "print(name3)"
   ]
  },
  {
   "cell_type": "code",
   "execution_count": 9,
   "id": "c1f368e4",
   "metadata": {},
   "outputs": [
    {
     "name": "stdout",
     "output_type": "stream",
     "text": [
      " UCHENNA  CHIOMA  ICHIE\n"
     ]
    }
   ],
   "source": [
    "print(name1, name2, name3)"
   ]
  },
  {
   "cell_type": "markdown",
   "id": "f31d7730",
   "metadata": {},
   "source": [
    "# write a program to find the amount that #5000 becomes if saved for 3 years at 6% per annum compound interest"
   ]
  },
  {
   "cell_type": "code",
   "execution_count": 4,
   "id": "2763d912",
   "metadata": {},
   "outputs": [
    {
     "name": "stdout",
     "output_type": "stream",
     "text": [
      "the total savings for three years is5955.08\n"
     ]
    }
   ],
   "source": [
    "principal = 5000\n",
    "rate = 6\n",
    "time = 3\n",
    "ci = principal *(1+ (rate/100))**time\n",
    "print(f'the total savings for three years is{ci}')"
   ]
  },
  {
   "cell_type": "markdown",
   "id": "de71757e",
   "metadata": {},
   "source": [
    "# Members of a family estimate that they will need 700000 to improve their house in 3 years time. they deposit 550000 at 5% per annum compound interest they add 25000 at the end of 1st year and 35000 at the end of 2nd year  write a program to find 1.their total savings after 3 years 2. by how much are their saving greater than or less than 700000 needed"
   ]
  },
  {
   "cell_type": "code",
   "execution_count": 5,
   "id": "9842c4a4",
   "metadata": {},
   "outputs": [
    {
     "name": "stdout",
     "output_type": "stream",
     "text": [
      "the total savings after three years is 701006.25\n"
     ]
    }
   ],
   "source": [
    "fp = 550000\n",
    "r = 5\n",
    "t = 3\n",
    "afterfirstyear = 25000\n",
    "aftersecondyear = 35000\n",
    "firstyear = (fp* (r/100)) + fp+afterfirstyear\n",
    "secondyear = (firstyear*(r/100)) +firstyear + aftersecondyear\n",
    "thirdyear =  (secondyear*(r/100)) + secondyear\n",
    "print(f'the total savings after three years is {thirdyear}')"
   ]
  },
  {
   "cell_type": "markdown",
   "id": "fbc7d17c",
   "metadata": {},
   "source": [
    "# formula for compound interest = A = P (1 + r/n)^nt\n",
    "where p is the principal balance, r is the interest rate, n is the number of times interest is compounded per year and t is the time\\\n"
   ]
  },
  {
   "cell_type": "markdown",
   "id": "c16ec112",
   "metadata": {},
   "source": [
    "# write a program to find the amount that #25000 becomes if saved for 6 years at 6% per annum compound interest"
   ]
  },
  {
   "cell_type": "code",
   "execution_count": 1,
   "id": "313c0221",
   "metadata": {},
   "outputs": [
    {
     "name": "stdout",
     "output_type": "stream",
     "text": [
      "the total savings for 3 years is 35462.977806400006\n"
     ]
    }
   ],
   "source": [
    "principal = 25000\n",
    "rate = 6\n",
    "time = 6\n",
    "ci = principal*(1 + (rate/100))**time\n",
    "print(f'the total savings for 3 years is {ci}')"
   ]
  },
  {
   "cell_type": "markdown",
   "id": "29459c24",
   "metadata": {},
   "source": [
    "# Members of a family estimate that they will need 1000000 to improve their house in 4 years time. they deposit 750000 at 5% per annum compound interest they add 30000 at the end of 1st year and 45000 at the end of 2nd year and another 50000 at the end of third year write a program to find 1.their total savings after 3 years 2. by how much are their saving greater than or less than 1000000 needed"
   ]
  },
  {
   "cell_type": "code",
   "execution_count": 5,
   "id": "d9883fb9",
   "metadata": {},
   "outputs": [
    {
     "name": "stdout",
     "output_type": "stream",
     "text": [
      "the total savings for 4 years is 1000802.1875\n"
     ]
    }
   ],
   "source": [
    "fp = 750000\n",
    "r = 5\n",
    "t = 4\n",
    "afterfirstyear = 30000\n",
    "aftersecondyear = 45000\n",
    "afterthirdyear = 50000\n",
    "firstyear = (fp*(r/100)) + fp+afterfirstyear\n",
    "secondyear = (firstyear*(r/100)) + firstyear+aftersecondyear\n",
    "thirdyear = (secondyear*(r/100)) + secondyear\n",
    "fourthyear = (thirdyear*(r/100)) + secondyear + afterthirdyear\n",
    "print(f'the total savings for 4 years is {fourthyear}')"
   ]
  },
  {
   "cell_type": "code",
   "execution_count": null,
   "id": "4ba13410",
   "metadata": {},
   "outputs": [],
   "source": []
  }
 ],
 "metadata": {
  "kernelspec": {
   "display_name": "Python 3 (ipykernel)",
   "language": "python",
   "name": "python3"
  },
  "language_info": {
   "codemirror_mode": {
    "name": "ipython",
    "version": 3
   },
   "file_extension": ".py",
   "mimetype": "text/x-python",
   "name": "python",
   "nbconvert_exporter": "python",
   "pygments_lexer": "ipython3",
   "version": "3.9.12"
  }
 },
 "nbformat": 4,
 "nbformat_minor": 5
}
