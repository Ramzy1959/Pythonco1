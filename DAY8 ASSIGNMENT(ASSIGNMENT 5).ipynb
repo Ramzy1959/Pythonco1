{
 "cells": [
  {
   "cell_type": "code",
   "execution_count": 1,
   "id": "958ab16a",
   "metadata": {},
   "outputs": [],
   "source": [
    "class carsimulation:\n",
    "    def __init__(self,brand,model,color,year,speed):\n",
    "        self.brand = brand\n",
    "        self.model = model\n",
    "        self.color = color\n",
    "        self.year  = year\n",
    "        self.speed = speed\n",
    "    def start(self):\n",
    "        print(f' {self.brand} {self.model} has started')\n",
    "    def changegear(self):\n",
    "        gearoption = input('choose gear option:')\n",
    "        if gearoption == '1':\n",
    "            print('Gear placed on 1')\n",
    "        elif gearoption == '2':\n",
    "            print('Gear placed on 2')\n",
    "        elif gearoption == '3':\n",
    "            print('Gear placed on 3')\n",
    "        elif gearoption == '4':\n",
    "            print('Gear placed on 4')\n",
    "        elif gearoption == '5':\n",
    "            print('Gear placed on 5')\n",
    "        elif gearoption =='R':\n",
    "            print('Gear placed on Reverse')\n",
    "    def accelerate(self,option):\n",
    "        if option ==1:\n",
    "            print('Nitro engaged')\n",
    "        elif option == 2:\n",
    "            print('Invalid Nitro option')\n",
    "    def stop(self):\n",
    "        print(f' {self.brand} {self.model} has stopped, GAME OVER!!!!!')\n",
    "              \n",
    "car1 = carsimulation('Audi', 'A6', 'Yellow', 2019, 200)\n",
    "car2 = carsimulation('Lambogini', 'Gallado', 'Black', 2021, 350)"
   ]
  },
  {
   "cell_type": "markdown",
   "id": "cef49f24",
   "metadata": {},
   "source": [
    "# USING CLASS AND OBJECT CREATE A BIKE SIMULATION GAME WITH THE FOLLOWING ATTRIBUTE (BRAND,MODEL,COLOR,YEAR,SPEED) AND THE FOLLOWING METHOD (START,CHANGEGEAR,ACCELERATE,STOP)"
   ]
  },
  {
   "cell_type": "code",
   "execution_count": 2,
   "id": "97e9068a",
   "metadata": {},
   "outputs": [],
   "source": [
    "class bikesimulation:\n",
    "    def __init__(self,brand,model,color,year,speed):\n",
    "        self.barnd = brand\n",
    "        self.model = model\n",
    "        self.color = color\n",
    "        self.year = year\n",
    "        self.speed = speed\n",
    "    def start(self):\n",
    "        print(f'{self.brand} {self.model} has started' )\n",
    "    def changegear(self):\n",
    "        gearoption = input('choose Gear option:')\n",
    "        if gearoption =='1':\n",
    "            print('Gear placed on 1')\n",
    "        elif gearoption =='2':\n",
    "            print('Gear placed on 2')\n",
    "        elif gearoption =='3':\n",
    "            print('Gear placed on 3')\n",
    "        elif gearoption =='4':\n",
    "            print('Gear placed on 4')\n",
    "        elif gearoption =='5':\n",
    "            print('Gear placed on 5')\n",
    "        elif gearoption =='R':\n",
    "            print('Gear placed on Reverse')\n",
    "    def accelerate(self,option):\n",
    "        if option == 1:\n",
    "            print('Nitrogen engaged')\n",
    "        if option == 2:\n",
    "            print('INVALID Nitrogen option')\n",
    "    def stop(self):\n",
    "        print(f'{self.brand} {self.model} has stopped, GAME OVER!!!' )\n",
    "\n",
    "bike1 = bikesimulation('Accura', 'MDX', 'White', 2008, 220)\n",
    "bike2 = bikesimulation('Ford', 'Edge', 'Red', 2010, 250)\n",
    "        \n",
    "            \n",
    "            \n",
    "            \n",
    "                                    \n",
    "        "
   ]
  },
  {
   "cell_type": "code",
   "execution_count": 4,
   "id": "adef9601",
   "metadata": {},
   "outputs": [
    {
     "name": "stdout",
     "output_type": "stream",
     "text": [
      " Accura MDX has started\n",
      "None\n"
     ]
    }
   ],
   "source": [
    "print(car1.start())"
   ]
  },
  {
   "cell_type": "code",
   "execution_count": 5,
   "id": "e1d6ef27",
   "metadata": {},
   "outputs": [
    {
     "name": "stdout",
     "output_type": "stream",
     "text": [
      " Ford Edge has started\n",
      "None\n"
     ]
    }
   ],
   "source": [
    "print(car2.start())"
   ]
  },
  {
   "cell_type": "code",
   "execution_count": 6,
   "id": "71e645c9",
   "metadata": {},
   "outputs": [
    {
     "name": "stdout",
     "output_type": "stream",
     "text": [
      " Accura MDX has stopped, GAME OVER!!!!!\n",
      "None\n"
     ]
    }
   ],
   "source": [
    "print(car1.stop())"
   ]
  },
  {
   "cell_type": "code",
   "execution_count": 7,
   "id": "02df785e",
   "metadata": {},
   "outputs": [
    {
     "name": "stdout",
     "output_type": "stream",
     "text": [
      " Ford Edge has stopped, GAME OVER!!!!!\n",
      "None\n"
     ]
    }
   ],
   "source": [
    "print(car2.stop())"
   ]
  },
  {
   "cell_type": "code",
   "execution_count": null,
   "id": "0749e274",
   "metadata": {},
   "outputs": [],
   "source": [
    "def display(self,ob):\n",
    "    print(f'''NAME: {ob.name}\n",
    "GENDER: {ob.gender}\n",
    "\n",
    "\n",
    "         ''')"
   ]
  }
 ],
 "metadata": {
  "kernelspec": {
   "display_name": "Python 3 (ipykernel)",
   "language": "python",
   "name": "python3"
  },
  "language_info": {
   "codemirror_mode": {
    "name": "ipython",
    "version": 3
   },
   "file_extension": ".py",
   "mimetype": "text/x-python",
   "name": "python",
   "nbconvert_exporter": "python",
   "pygments_lexer": "ipython3",
   "version": "3.9.12"
  }
 },
 "nbformat": 4,
 "nbformat_minor": 5
}
