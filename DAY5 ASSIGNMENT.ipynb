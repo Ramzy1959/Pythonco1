{
 "cells": [
  {
   "cell_type": "markdown",
   "id": "0a0270ca",
   "metadata": {},
   "source": [
    "# WRITE  A PYTHON TO CALCULATE THE AVERAGE SCORE OF A STUDENT IN 8 SUBJECT AND A CONDITION TO GET THE GRADE"
   ]
  },
  {
   "cell_type": "code",
   "execution_count": 1,
   "id": "5b7ee968",
   "metadata": {},
   "outputs": [
    {
     "name": "stdout",
     "output_type": "stream",
     "text": [
      "Enter marks obtained in 8 subjects:\n",
      "56\n",
      "67\n",
      "87\n",
      "34\n",
      "64\n",
      "30\n",
      "76\n",
      "54\n",
      "Your Grade is C1\n"
     ]
    }
   ],
   "source": [
    "print('Enter marks obtained in 8 subjects:')\n",
    "markone = int(input())\n",
    "marktwo = int(input())\n",
    "markthree = int(input())\n",
    "markfour = int(input())\n",
    "markfive = int(input())\n",
    "marksix = int(input())\n",
    "markseven = int(input())\n",
    "markeight = int(input())\n",
    "\n",
    "tot = markone+marktwo+markthree+markfour+markfive+marksix+markseven+markeight\n",
    "avg = tot/8\n",
    "\n",
    "if avg>=91 and avg<=100:\n",
    "    print('Your Grade is A1')\n",
    "elif avg>=81 and avg<91:\n",
    "    print('Your Grade is A2')\n",
    "elif avg>=71 and avg<80:\n",
    "    print('Your Grade is B1')\n",
    "elif avg>=61 and avg<70:\n",
    "    print('Your Grade is B2')\n",
    "elif avg>=51 and avg<60:\n",
    "    print('Your Grade is C1')\n",
    "elif avg>=41 and avg<50:\n",
    "    print('Your Grade is C2')\n",
    "elif avg>=33 and avg<40:\n",
    "    print('Your Grade is D')\n",
    "elif avg>=21 and avg<32:\n",
    "    print('Your Grade is E1')\n",
    "elif avg>=0 and avg<20:\n",
    "    print('Your Grade is E2')\n",
    "else:\n",
    "    print('INVALID INPUT')\n",
    "    \n"
   ]
  },
  {
   "cell_type": "code",
   "execution_count": 2,
   "id": "22dcf791",
   "metadata": {},
   "outputs": [
    {
     "name": "stdout",
     "output_type": "stream",
     "text": [
      "58.5\n"
     ]
    }
   ],
   "source": [
    "import statistics as stat\n",
    "score = [56, 67, 87, 34, 64, 30, 76, 54]\n",
    "print(stat.mean(score))"
   ]
  },
  {
   "cell_type": "markdown",
   "id": "0712aa79",
   "metadata": {},
   "source": [
    "# WRITE A PYTHON TO CALCULATE THE AVERAGE SCORE OF A STUDENT IN 6 SUBJECT AND A CONDITION TO GET THE GRADE"
   ]
  },
  {
   "cell_type": "code",
   "execution_count": 3,
   "id": "ba00f248",
   "metadata": {},
   "outputs": [
    {
     "name": "stdout",
     "output_type": "stream",
     "text": [
      "Enter marks obtained in 6 subjects\n",
      "76\n",
      "60\n",
      "90\n",
      "85\n",
      "63\n",
      "50\n",
      "Your Grade is C1\n"
     ]
    }
   ],
   "source": [
    "print('Enter marks obtained in 6 subjects')\n",
    "markone = int(input())\n",
    "marktwo = int(input())\n",
    "markthree = int(input())\n",
    "markfour = int(input())\n",
    "markfive = int(input())\n",
    "marksix = int(input())\n",
    "\n",
    "tot = markone+marktwo+markthree+markfour+markfive+marksix\n",
    "avg = tot/8\n",
    "\n",
    "if avg>=91 and avg<=100:\n",
    "    print('Your Grade is A1')\n",
    "elif avg>=81 and avg<=90:\n",
    "    print('Your Grade is A2')\n",
    "elif avg>=71 and avg<=80:\n",
    "    print('Your Grade is B1')\n",
    "elif avg>=61 and avg<=70:\n",
    "    print('Your Grade is B2')\n",
    "elif avg>=51 and avg<=60:\n",
    "    print('Your Grade is C1')\n",
    "elif avg>=41 and avg<=50:\n",
    "    print('Your Grade is C2')\n",
    "elif avg>=33 and avg<=40:\n",
    "    print('Your Grade is D')\n",
    "elif avg>=21 and avg<=32:\n",
    "    print('Your Grade is E1')\n",
    "elif avg>=0 and avg<=20:\n",
    "    print('Your Grade is E')\n",
    "else:\n",
    "    print('INVALID INPUT')\n"
   ]
  },
  {
   "cell_type": "code",
   "execution_count": 4,
   "id": "c03dac97",
   "metadata": {},
   "outputs": [
    {
     "name": "stdout",
     "output_type": "stream",
     "text": [
      "70.66666666666667\n"
     ]
    }
   ],
   "source": [
    "import statistics as stat\n",
    "score = [76, 60, 90, 85, 63, 50]\n",
    "print(stat.mean(score))"
   ]
  },
  {
   "cell_type": "code",
   "execution_count": null,
   "id": "2ab9ae0e",
   "metadata": {},
   "outputs": [],
   "source": []
  }
 ],
 "metadata": {
  "kernelspec": {
   "display_name": "Python 3 (ipykernel)",
   "language": "python",
   "name": "python3"
  },
  "language_info": {
   "codemirror_mode": {
    "name": "ipython",
    "version": 3
   },
   "file_extension": ".py",
   "mimetype": "text/x-python",
   "name": "python",
   "nbconvert_exporter": "python",
   "pygments_lexer": "ipython3",
   "version": "3.9.12"
  }
 },
 "nbformat": 4,
 "nbformat_minor": 5
}
